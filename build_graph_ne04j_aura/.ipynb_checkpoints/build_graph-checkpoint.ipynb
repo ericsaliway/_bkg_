{
 "cells": [
  {
   "cell_type": "code",
   "execution_count": 1,
   "metadata": {
    "ExecuteTime": {
     "end_time": "2021-08-06T12:17:42.529843Z",
     "start_time": "2021-08-06T12:17:37.821976Z"
    }
   },
   "outputs": [],
   "source": [
    "from tqdm.notebook import tqdm\n",
    "import re\n",
    "import os \n",
    "import shutil\n",
    "import numpy as np\n",
    "import pandas as pd\n",
    "import igraph as ig\n",
    "from scipy.sparse import lil_matrix, save_npz\n",
    "from sklearn.metrics.pairwise import cosine_similarity\n",
    "import torch\n",
    "from transformers import AutoTokenizer, AutoModel, pipeline\n",
    "%load_ext autoreload\n",
    "%autoreload 2\n",
    "\n",
    "data_path = '../datasets/data/' # updated path\n",
    "save_path = data_path+'kg/'\n",
    "\n",
    "# note, run pip install urllib3==1.26.6 to avoid an OpenSSL dependency in the current version of urllib3"
   ]
  },
  {
   "cell_type": "markdown",
   "metadata": {
    "heading_collapsed": true
   },
   "source": [
    "# Read datasets"
   ]
  },
  {
   "cell_type": "code",
   "execution_count": 2,
   "metadata": {
    "ExecuteTime": {
     "end_time": "2021-08-06T12:17:42.583094Z",
     "start_time": "2021-08-06T12:17:42.532233Z"
    },
    "hidden": true
   },
   "outputs": [],
   "source": [
    "def assert_dtypes(df): \n",
    "    all_string = True\n",
    "    for i, x in enumerate(df.dtypes.values): \n",
    "        if x != np.dtype('O'): \n",
    "            all_string = False\n",
    "            print(df.columns[i], x)\n",
    "    if not all_string: assert False"
   ]
  },
  {
   "cell_type": "code",
   "execution_count": 4,
   "metadata": {
    "ExecuteTime": {
     "end_time": "2021-08-06T12:17:58.905940Z",
     "start_time": "2021-08-06T12:17:42.598948Z"
    },
    "hidden": true
   },
   "outputs": [
    {
     "data": {
      "text/plain": [
       "\"df_umls_mondo = pd.read_csv(data_path+'vocab/umls_mondo.csv', low_memory=False)\\ndf_umls_mondo = df_umls_mondo.astype({'mondo_id':int}).astype({'mondo_id':str})\\nassert_dtypes(df_umls_mondo)\\n\\ndf_prot_names = pd.read_csv(data_path+'vocab/gene_names.csv', low_memory=False, sep='\\t')\\ndf_prot_names = df_prot_names.rename(columns={'NCBI Gene ID(supplied by NCBI)':'ncbi_id', 'NCBI Gene ID':'ncbi_id2', 'Approved symbol':'symbol', 'Approved name':'name'})\\ndf_prot_names = df_prot_names.get(['ncbi_id', 'symbol']).dropna()\\ndf_prot_names = df_prot_names.astype({'ncbi_id':int}).astype({'ncbi_id':str})\\nassert_dtypes(df_prot_names)\\n\\ndb_vocab = pd.read_csv(data_path+'vocab/drugbank_vocabulary.csv', low_memory=False)\\nassert_dtypes(db_vocab)\\n\\ndf_db_atc = pd.read_csv(data_path+'vocab/drugbank_atc_codes.csv', low_memory=False).get(['atc_code','parent_key'])\\nassert_dtypes(df_db_atc)\""
      ]
     },
     "execution_count": 4,
     "metadata": {},
     "output_type": "execute_result"
    }
   ],
   "source": [
    "'''df_ppi = pd.read_csv(data_path+'ppi/protein_protein.csv', low_memory=False).dropna()\n",
    "df_ppi = df_ppi.astype({'proteinA_entrezid':int}).astype({'proteinA_entrezid':str})\n",
    "df_ppi = df_ppi.astype({'proteinB_entrezid':int}).astype({'proteinB_entrezid':str})\n",
    "assert_dtypes(df_ppi)\n",
    "\n",
    "df_drugbank = pd.read_csv(data_path+'drugbank/drug_protein.csv', low_memory=False)\n",
    "df_drugbank = df_drugbank.get(['DrugBank', 'relation', 'NCBIGeneID','DrugBankName']).dropna()\n",
    "df_drugbank = df_drugbank.astype({'NCBIGeneID':int}).astype({'NCBIGeneID':str})\n",
    "assert_dtypes(df_drugbank)\n",
    "\n",
    "df_disgenet = pd.read_csv(data_path+'disgenet/curated_gene_disease_associations.tsv', sep='\\t', low_memory=False)\n",
    "df_disgenet = df_disgenet.astype({'geneId':int}).astype({'geneId':str})\n",
    "\n",
    "df_mondo_terms = pd.read_csv(data_path+'mondo/mondo_terms.csv', low_memory=False)\n",
    "df_mondo_terms = df_mondo_terms.astype({'id':int}).astype({'id':str})\n",
    "\n",
    "df_mondo_xref = pd.read_csv(data_path+'mondo/mondo_references.csv', low_memory=False)\n",
    "df_mondo_xref = df_mondo_xref.astype({'mondo_id':int}).astype({'mondo_id':str})\n",
    "assert_dtypes(df_mondo_xref)\n",
    "\n",
    "df_mondo_parents = pd.read_csv(data_path+'mondo/mondo_parents.csv', low_memory=False)\n",
    "df_mondo_parents = df_mondo_parents.astype({'parent':int}).astype({'parent':str})\n",
    "df_mondo_parents = df_mondo_parents.astype({'child':int}).astype({'child':str})\n",
    "assert_dtypes(df_mondo_parents)\n",
    "\n",
    "df_drug_central = pd.read_csv(data_path+'drugcentral/drug_disease.csv', low_memory=False)\n",
    "df_drug_central = df_drug_central.get(['cas_reg_no','relationship_name', 'umls_cui']) # 'concept_id', 'concept_name', 'snomed_conceptid'\n",
    "df_drug_central = df_drug_central.query('not @df_drug_central.cas_reg_no.isna()')\n",
    "df_drug_central = df_drug_central.query('not @df_drug_central.umls_cui.isna()')\n",
    "assert_dtypes(df_drug_central)\n",
    "\n",
    "df_ddi = pd.read_csv(data_path+'drugbank/drug_drug.csv', low_memory=False)\n",
    "assert_dtypes(df_ddi)\n",
    "\n",
    "df_hp_terms = pd.read_csv(data_path+'hpo/hp_terms.csv', low_memory=False)\n",
    "df_hp_terms = df_hp_terms.astype({'id':int}).astype({'id':str})\n",
    "\n",
    "df_hp_xref = pd.read_csv(data_path+'hpo/hp_references.csv', low_memory=False)\n",
    "df_hp_xref = df_hp_xref.astype({'hp_id':int}).astype({'hp_id':str})\n",
    "\n",
    "df_hp_parents = pd.read_csv(data_path+'hpo/hp_parents.csv', low_memory=False)\n",
    "df_hp_parents = df_hp_parents.astype({'parent':int}).astype({'parent':str})\n",
    "df_hp_parents = df_hp_parents.astype({'child':int}).astype({'child':str})\n",
    "assert_dtypes(df_hp_parents)\n",
    "\n",
    "df_hpoa_pos = pd.read_csv(data_path+'hpo/disease_phenotype_pos.csv', low_memory=False)\n",
    "df_hpoa_pos = df_hpoa_pos.astype({'hp_id':int}).astype({'hp_id':str})\n",
    "df_hpoa_pos = df_hpoa_pos.astype({'disease_ontology_id':int}).astype({'disease_ontology_id':str})\n",
    "assert_dtypes(df_hpoa_pos)\n",
    "\n",
    "df_hpoa_neg = pd.read_csv(data_path+'hpo/disease_phenotype_neg.csv', low_memory=False)\n",
    "df_hpoa_neg = df_hpoa_neg.astype({'hp_id':int}).astype({'hp_id':str})\n",
    "df_hpoa_neg = df_hpoa_neg.astype({'disease_ontology_id':int}).astype({'disease_ontology_id':str})\n",
    "assert_dtypes(df_hpoa_neg)\n",
    "\n",
    "df_sider = pd.read_csv(data_path+'sider/sider.csv', low_memory=False)\n",
    "assert_dtypes(df_sider)\n",
    "\n",
    "df_go_terms = pd.read_csv(data_path+'go/go_terms_info.csv', low_memory=False)\n",
    "df_go_terms = df_go_terms.astype({'go_term_id':int}).astype({'go_term_id':str})\n",
    "assert_dtypes(df_go_terms)\n",
    "\n",
    "df_go_edges = pd.read_csv(data_path+'go/go_terms_relations.csv', low_memory=False)\n",
    "df_go_edges = df_go_edges.astype({'x':int}).astype({'x':str})\n",
    "df_go_edges = df_go_edges.astype({'y':int}).astype({'y':str})\n",
    "assert_dtypes(df_go_edges)\n",
    "\n",
    "df_gene2go = pd.read_csv(data_path+'ncbigene/protein_go_associations.csv', low_memory=False)\n",
    "df_gene2go = df_gene2go.astype({'ncbi_gene_id':int}).astype({'ncbi_gene_id':str})\n",
    "df_gene2go = df_gene2go.astype({'go_term_id':int}).astype({'go_term_id':str})\n",
    "assert_dtypes(df_gene2go)\n",
    "\n",
    "df_exposures = pd.read_csv(data_path+'ctd/exposure_data.csv', low_memory=False)\n",
    "df_exposures = df_exposures.get(['exposurestressorname', 'exposurestressorid',\n",
    "                  'exposuremarker', 'exposuremarkerid',\n",
    "                  'diseasename', 'diseaseid',\n",
    "                  'phenotypename', 'phenotypeid'])\n",
    "assert_dtypes(df_exposures)\n",
    "\n",
    "df_uberon_terms = pd.read_csv(data_path+'uberon/uberon_terms.csv', low_memory=False)\n",
    "df_uberon_terms = df_uberon_terms.astype({'id':int}).astype({'id':str})\n",
    "assert_dtypes(df_uberon_terms)\n",
    "\n",
    "df_uberon_is_a = pd.read_csv(data_path+'uberon/uberon_is_a.csv', low_memory=False)\n",
    "df_uberon_is_a = df_uberon_is_a.astype({'id':int}).astype({'id':str})\n",
    "df_uberon_is_a = df_uberon_is_a.astype({'is_a':int}).astype({'is_a':str})\n",
    "assert_dtypes(df_uberon_is_a)\n",
    "\n",
    "df_uberon_rels = pd.read_csv(data_path+'uberon/uberon_rels.csv', low_memory=False)\n",
    "df_uberon_rels = df_uberon_rels.astype({'id':int}).astype({'id':str})\n",
    "df_uberon_rels = df_uberon_rels.astype({'relation_id':int}).astype({'relation_id':str})\n",
    "assert_dtypes(df_uberon_rels)\n",
    "\n",
    "df_bgee = pd.read_csv(data_path+'bgee/anatomy_gene.csv', low_memory=False)\n",
    "df_bgee = df_bgee.astype({'expression_rank':int}).astype({'expression_rank':str})\n",
    "df_bgee = df_bgee.astype({'anatomy_id':int}).astype({'anatomy_id':str})\n",
    "assert_dtypes(df_bgee)'''\n",
    "\n",
    "df_reactome_terms = pd.read_csv(data_path+'reactome/reactome_terms.csv', low_memory=False)\n",
    "assert_dtypes(df_reactome_terms)\n",
    "\n",
    "df_reactome_rels = pd.read_csv(data_path+'reactome/reactome_relations.csv', low_memory=False)\n",
    "assert_dtypes(df_reactome_rels)\n",
    "\n",
    "df_reactome_ncbi = pd.read_csv(data_path+'reactome/reactome_ncbi.csv', low_memory=False)\n",
    "df_reactome_ncbi = df_reactome_ncbi[df_reactome_ncbi.ncbi_id.str.isnumeric()]\n",
    "assert_dtypes(df_reactome_ncbi)\n",
    "\n",
    "'''df_umls_mondo = pd.read_csv(data_path+'vocab/umls_mondo.csv', low_memory=False)\n",
    "df_umls_mondo = df_umls_mondo.astype({'mondo_id':int}).astype({'mondo_id':str})\n",
    "assert_dtypes(df_umls_mondo)\n",
    "\n",
    "df_prot_names = pd.read_csv(data_path+'vocab/gene_names.csv', low_memory=False, sep='\\t')\n",
    "df_prot_names = df_prot_names.rename(columns={'NCBI Gene ID(supplied by NCBI)':'ncbi_id', 'NCBI Gene ID':'ncbi_id2', 'Approved symbol':'symbol', 'Approved name':'name'})\n",
    "df_prot_names = df_prot_names.get(['ncbi_id', 'symbol']).dropna()\n",
    "df_prot_names = df_prot_names.astype({'ncbi_id':int}).astype({'ncbi_id':str})\n",
    "assert_dtypes(df_prot_names)\n",
    "\n",
    "db_vocab = pd.read_csv(data_path+'vocab/drugbank_vocabulary.csv', low_memory=False)\n",
    "assert_dtypes(db_vocab)\n",
    "\n",
    "df_db_atc = pd.read_csv(data_path+'vocab/drugbank_atc_codes.csv', low_memory=False).get(['atc_code','parent_key'])\n",
    "assert_dtypes(df_db_atc)'''"
   ]
  },
  {
   "cell_type": "markdown",
   "metadata": {
    "heading_collapsed": true
   },
   "source": [
    "# Converting databases into graph edges"
   ]
  },
  {
   "cell_type": "code",
   "execution_count": 5,
   "metadata": {
    "ExecuteTime": {
     "end_time": "2021-08-06T12:17:59.008491Z",
     "start_time": "2021-08-06T12:17:58.909175Z"
    },
    "hidden": true
   },
   "outputs": [],
   "source": [
    "def clean_edges(df): \n",
    "    df = df.get(['relation', 'display_relation', 'x_id','x_type', 'x_name', 'x_source','y_id','y_type', 'y_name', 'y_source'])\n",
    "    df = df.dropna()\n",
    "    df = df.drop_duplicates()\n",
    "    df = df.query('not ((x_id == y_id) and (x_type == y_type) and (x_source == y_source) and (x_name == y_name))')\n",
    "    return df"
   ]
  },
  {
   "cell_type": "markdown",
   "metadata": {
    "hidden": true
   },
   "source": [
    "## Basic"
   ]
  },
  {
   "cell_type": "markdown",
   "metadata": {
    "hidden": true
   },
   "source": [
    "### Protein protein interactions (NCBI)"
   ]
  },
  {
   "cell_type": "code",
   "execution_count": null,
   "metadata": {
    "ExecuteTime": {
     "end_time": "2021-08-06T12:18:00.653072Z",
     "start_time": "2021-08-06T12:17:59.013365Z"
    },
    "hidden": true
   },
   "outputs": [
    {
     "data": {
      "text/html": [
       "<div>\n",
       "<style scoped>\n",
       "    .dataframe tbody tr th:only-of-type {\n",
       "        vertical-align: middle;\n",
       "    }\n",
       "\n",
       "    .dataframe tbody tr th {\n",
       "        vertical-align: top;\n",
       "    }\n",
       "\n",
       "    .dataframe thead th {\n",
       "        text-align: right;\n",
       "    }\n",
       "</style>\n",
       "<table border=\"1\" class=\"dataframe\">\n",
       "  <thead>\n",
       "    <tr style=\"text-align: right;\">\n",
       "      <th></th>\n",
       "      <th>relation</th>\n",
       "      <th>display_relation</th>\n",
       "      <th>x_id</th>\n",
       "      <th>x_type</th>\n",
       "      <th>x_name</th>\n",
       "      <th>x_source</th>\n",
       "      <th>y_id</th>\n",
       "      <th>y_type</th>\n",
       "      <th>y_name</th>\n",
       "      <th>y_source</th>\n",
       "    </tr>\n",
       "  </thead>\n",
       "  <tbody>\n",
       "    <tr>\n",
       "      <th>0</th>\n",
       "      <td>protein_protein</td>\n",
       "      <td>ppi</td>\n",
       "      <td>9796</td>\n",
       "      <td>gene/protein</td>\n",
       "      <td>PHYHIP</td>\n",
       "      <td>NCBI</td>\n",
       "      <td>56992</td>\n",
       "      <td>gene/protein</td>\n",
       "      <td>KIF15</td>\n",
       "      <td>NCBI</td>\n",
       "    </tr>\n",
       "  </tbody>\n",
       "</table>\n",
       "</div>"
      ],
      "text/plain": [
       "          relation display_relation  x_id        x_type  x_name x_source  \\\n",
       "0  protein_protein              ppi  9796  gene/protein  PHYHIP     NCBI   \n",
       "\n",
       "    y_id        y_type y_name y_source  \n",
       "0  56992  gene/protein  KIF15     NCBI  "
      ]
     },
     "execution_count": 5,
     "metadata": {},
     "output_type": "execute_result"
    }
   ],
   "source": [
    "df_prot_prot = pd.merge(df_ppi, df_prot_names, 'left', left_on='proteinA_entrezid', right_on='ncbi_id').rename(columns={'symbol':'symbolA'})\n",
    "df_prot_prot = pd.merge(df_prot_prot, df_prot_names, 'left', left_on='proteinB_entrezid', right_on='ncbi_id').rename(columns={'symbol':'symbolB'})\n",
    "\n",
    "df_prot_prot = df_prot_prot.rename(columns={'proteinA_entrezid':'x_id', 'proteinB_entrezid':'y_id', 'symbolA':'x_name', 'symbolB':'y_name'})\n",
    "df_prot_prot['x_type'] = 'gene/protein'\n",
    "df_prot_prot['x_source'] = 'NCBI'\n",
    "df_prot_prot['y_type'] = 'gene/protein'\n",
    "df_prot_prot['y_source'] = 'NCBI'\n",
    "df_prot_prot['relation'] = 'protein_protein'\n",
    "df_prot_prot['display_relation'] = 'ppi'\n",
    "df_prot_prot = clean_edges(df_prot_prot)\n",
    "df_prot_prot.head(1)"
   ]
  },
  {
   "cell_type": "markdown",
   "metadata": {
    "hidden": true
   },
   "source": [
    "### Drug protein interactions (DrugBank)"
   ]
  },
  {
   "cell_type": "code",
   "execution_count": null,
   "metadata": {
    "ExecuteTime": {
     "end_time": "2021-08-06T12:18:00.937639Z",
     "start_time": "2021-08-06T12:18:00.656244Z"
    },
    "hidden": true
   },
   "outputs": [
    {
     "data": {
      "text/html": [
       "<div>\n",
       "<style scoped>\n",
       "    .dataframe tbody tr th:only-of-type {\n",
       "        vertical-align: middle;\n",
       "    }\n",
       "\n",
       "    .dataframe tbody tr th {\n",
       "        vertical-align: top;\n",
       "    }\n",
       "\n",
       "    .dataframe thead th {\n",
       "        text-align: right;\n",
       "    }\n",
       "</style>\n",
       "<table border=\"1\" class=\"dataframe\">\n",
       "  <thead>\n",
       "    <tr style=\"text-align: right;\">\n",
       "      <th></th>\n",
       "      <th>relation</th>\n",
       "      <th>display_relation</th>\n",
       "      <th>x_id</th>\n",
       "      <th>x_type</th>\n",
       "      <th>x_name</th>\n",
       "      <th>x_source</th>\n",
       "      <th>y_id</th>\n",
       "      <th>y_type</th>\n",
       "      <th>y_name</th>\n",
       "      <th>y_source</th>\n",
       "    </tr>\n",
       "  </thead>\n",
       "  <tbody>\n",
       "    <tr>\n",
       "      <th>0</th>\n",
       "      <td>drug_protein</td>\n",
       "      <td>carrier</td>\n",
       "      <td>DB09130</td>\n",
       "      <td>drug</td>\n",
       "      <td>Copper</td>\n",
       "      <td>DrugBank</td>\n",
       "      <td>2157</td>\n",
       "      <td>gene/protein</td>\n",
       "      <td>F8</td>\n",
       "      <td>NCBI</td>\n",
       "    </tr>\n",
       "  </tbody>\n",
       "</table>\n",
       "</div>"
      ],
      "text/plain": [
       "       relation display_relation     x_id x_type  x_name  x_source  y_id  \\\n",
       "0  drug_protein          carrier  DB09130   drug  Copper  DrugBank  2157   \n",
       "\n",
       "         y_type y_name y_source  \n",
       "0  gene/protein     F8     NCBI  "
      ]
     },
     "execution_count": 6,
     "metadata": {},
     "output_type": "execute_result"
    }
   ],
   "source": [
    "df_prot_drug = pd.merge(df_drugbank, df_prot_names, 'left', left_on='NCBIGeneID', right_on='ncbi_id')\n",
    "\n",
    "df_prot_drug = df_prot_drug.rename(columns={'DrugBank':'x_id', 'NCBIGeneID':'y_id', 'DrugBankName':'x_name', 'symbol':'y_name'})\n",
    "df_prot_drug['x_type'] = 'drug'\n",
    "df_prot_drug['x_source'] = 'DrugBank'\n",
    "df_prot_drug['y_type'] = 'gene/protein'\n",
    "df_prot_drug['y_source'] = 'NCBI'\n",
    "df_prot_drug['display_relation'] = df_prot_drug.get('relation').values\n",
    "df_prot_drug['relation'] = 'drug_protein' # combine targets, carrier, enzyme and transporter\n",
    "df_prot_drug = clean_edges(df_prot_drug)\n",
    "df_prot_drug.head(1)"
   ]
  },
  {
   "cell_type": "markdown",
   "metadata": {
    "hidden": true
   },
   "source": [
    "### Drug disease interactions (DiseaseCentral) –– PENDING"
   ]
  },
  {
   "cell_type": "code",
   "execution_count": null,
   "metadata": {
    "ExecuteTime": {
     "end_time": "2021-08-06T12:18:01.357506Z",
     "start_time": "2021-08-06T12:18:00.940724Z"
    },
    "hidden": true
   },
   "outputs": [
    {
     "data": {
      "text/html": [
       "<div>\n",
       "<style scoped>\n",
       "    .dataframe tbody tr th:only-of-type {\n",
       "        vertical-align: middle;\n",
       "    }\n",
       "\n",
       "    .dataframe tbody tr th {\n",
       "        vertical-align: top;\n",
       "    }\n",
       "\n",
       "    .dataframe thead th {\n",
       "        text-align: right;\n",
       "    }\n",
       "</style>\n",
       "<table border=\"1\" class=\"dataframe\">\n",
       "  <thead>\n",
       "    <tr style=\"text-align: right;\">\n",
       "      <th></th>\n",
       "      <th>relation</th>\n",
       "      <th>display_relation</th>\n",
       "      <th>x_id</th>\n",
       "      <th>x_type</th>\n",
       "      <th>x_name</th>\n",
       "      <th>x_source</th>\n",
       "      <th>y_id</th>\n",
       "      <th>y_type</th>\n",
       "      <th>y_name</th>\n",
       "      <th>y_source</th>\n",
       "    </tr>\n",
       "  </thead>\n",
       "  <tbody>\n",
       "    <tr>\n",
       "      <th>0</th>\n",
       "      <td>contraindication</td>\n",
       "      <td>contraindication</td>\n",
       "      <td>DB00435</td>\n",
       "      <td>drug</td>\n",
       "      <td>Nitric Oxide</td>\n",
       "      <td>DrugBank</td>\n",
       "      <td>1117</td>\n",
       "      <td>disease</td>\n",
       "      <td>methemoglobinemia</td>\n",
       "      <td>MONDO</td>\n",
       "    </tr>\n",
       "  </tbody>\n",
       "</table>\n",
       "</div>"
      ],
      "text/plain": [
       "           relation  display_relation     x_id x_type        x_name  x_source  \\\n",
       "0  contraindication  contraindication  DB00435   drug  Nitric Oxide  DrugBank   \n",
       "\n",
       "   y_id   y_type             y_name y_source  \n",
       "0  1117  disease  methemoglobinemia    MONDO  "
      ]
     },
     "execution_count": 7,
     "metadata": {},
     "output_type": "execute_result"
    }
   ],
   "source": [
    "df_drug_dis = pd.merge(df_drug_central, db_vocab, 'left', left_on='cas_reg_no', right_on='CAS')\n",
    "df_drug_dis = pd.merge(df_drug_dis, df_umls_mondo, 'inner', left_on='umls_cui', right_on='umls_id')\n",
    "df_drug_dis = pd.merge(df_drug_dis, df_mondo_terms, 'left', left_on='mondo_id', right_on='id')\n",
    "\n",
    "df_drug_dis = df_drug_dis.get(['relationship_name','DrugBank ID', 'Common name', 'mondo_id', 'name'])\n",
    "df_drug_dis = df_drug_dis.dropna().drop_duplicates()\n",
    "\n",
    "df_drug_dis = df_drug_dis.rename(columns={'DrugBank ID':'x_id', 'mondo_id':'y_id', 'Common name':'x_name', 'name':'y_name', 'relationship_name':'relation'})\n",
    "df_drug_dis['x_type'] = 'drug'\n",
    "df_drug_dis['x_source'] = 'DrugBank'\n",
    "df_drug_dis['y_type'] = 'disease'\n",
    "df_drug_dis['y_source'] = 'MONDO'\n",
    "df_drug_dis['display_relation'] = df_drug_dis.get('relation').values\n",
    "df_drug_dis = clean_edges(df_drug_dis)\n",
    "df_drug_dis.head(1)"
   ]
  },
  {
   "cell_type": "markdown",
   "metadata": {
    "hidden": true
   },
   "source": [
    "### Disease protein interactions (DisGenNet)"
   ]
  },
  {
   "cell_type": "code",
   "execution_count": null,
   "metadata": {
    "ExecuteTime": {
     "end_time": "2021-08-06T12:18:02.363099Z",
     "start_time": "2021-08-06T12:18:01.381960Z"
    },
    "hidden": true
   },
   "outputs": [
    {
     "data": {
      "text/html": [
       "<div>\n",
       "<style scoped>\n",
       "    .dataframe tbody tr th:only-of-type {\n",
       "        vertical-align: middle;\n",
       "    }\n",
       "\n",
       "    .dataframe tbody tr th {\n",
       "        vertical-align: top;\n",
       "    }\n",
       "\n",
       "    .dataframe thead th {\n",
       "        text-align: right;\n",
       "    }\n",
       "</style>\n",
       "<table border=\"1\" class=\"dataframe\">\n",
       "  <thead>\n",
       "    <tr style=\"text-align: right;\">\n",
       "      <th></th>\n",
       "      <th>relation</th>\n",
       "      <th>display_relation</th>\n",
       "      <th>x_id</th>\n",
       "      <th>x_type</th>\n",
       "      <th>x_name</th>\n",
       "      <th>x_source</th>\n",
       "      <th>y_id</th>\n",
       "      <th>y_type</th>\n",
       "      <th>y_name</th>\n",
       "      <th>y_source</th>\n",
       "    </tr>\n",
       "  </thead>\n",
       "  <tbody>\n",
       "    <tr>\n",
       "      <th>0</th>\n",
       "      <td>disease_protein</td>\n",
       "      <td>associated with</td>\n",
       "      <td>1</td>\n",
       "      <td>gene/protein</td>\n",
       "      <td>A1BG</td>\n",
       "      <td>NCBI</td>\n",
       "      <td>5090</td>\n",
       "      <td>disease</td>\n",
       "      <td>schizophrenia</td>\n",
       "      <td>MONDO</td>\n",
       "    </tr>\n",
       "  </tbody>\n",
       "</table>\n",
       "</div>"
      ],
      "text/plain": [
       "          relation display_relation x_id        x_type x_name x_source  y_id  \\\n",
       "0  disease_protein  associated with    1  gene/protein   A1BG     NCBI  5090   \n",
       "\n",
       "    y_type         y_name y_source  \n",
       "0  disease  schizophrenia    MONDO  "
      ]
     },
     "execution_count": 8,
     "metadata": {},
     "output_type": "execute_result"
    }
   ],
   "source": [
    "df_prot_dis1 = df_disgenet.query('diseaseType==\"disease\"')\n",
    "\n",
    "df_prot_dis1 = pd.merge(df_prot_dis1, df_umls_mondo, 'inner', left_on='diseaseId', right_on='umls_id')\n",
    "df_prot_dis1 = pd.merge(df_prot_dis1, df_mondo_terms, 'left', left_on='mondo_id', right_on='id')\n",
    "\n",
    "df_prot_dis1 = df_prot_dis1.rename(columns={'geneId':'x_id', 'geneSymbol':'x_name', 'mondo_id':'y_id', 'name':'y_name'})\n",
    "df_prot_dis1['x_type'] = 'gene/protein'\n",
    "df_prot_dis1['x_source'] = 'NCBI'\n",
    "df_prot_dis1['y_type'] = 'disease'\n",
    "df_prot_dis1['y_source'] = 'MONDO'\n",
    "df_prot_dis1['relation'] = 'disease_protein'\n",
    "df_prot_dis1['display_relation'] = 'associated with'\n",
    "df_prot_dis1 = clean_edges(df_prot_dis1)\n",
    "df_prot_dis1.head(1)"
   ]
  },
  {
   "cell_type": "markdown",
   "metadata": {
    "hidden": true
   },
   "source": [
    "### Disease disease interations (MONDO)"
   ]
  },
  {
   "cell_type": "code",
   "execution_count": null,
   "metadata": {
    "ExecuteTime": {
     "end_time": "2021-08-06T12:18:02.612068Z",
     "start_time": "2021-08-06T12:18:02.367422Z"
    },
    "hidden": true
   },
   "outputs": [
    {
     "data": {
      "text/html": [
       "<div>\n",
       "<style scoped>\n",
       "    .dataframe tbody tr th:only-of-type {\n",
       "        vertical-align: middle;\n",
       "    }\n",
       "\n",
       "    .dataframe tbody tr th {\n",
       "        vertical-align: top;\n",
       "    }\n",
       "\n",
       "    .dataframe thead th {\n",
       "        text-align: right;\n",
       "    }\n",
       "</style>\n",
       "<table border=\"1\" class=\"dataframe\">\n",
       "  <thead>\n",
       "    <tr style=\"text-align: right;\">\n",
       "      <th></th>\n",
       "      <th>relation</th>\n",
       "      <th>display_relation</th>\n",
       "      <th>x_id</th>\n",
       "      <th>x_type</th>\n",
       "      <th>x_name</th>\n",
       "      <th>x_source</th>\n",
       "      <th>y_id</th>\n",
       "      <th>y_type</th>\n",
       "      <th>y_name</th>\n",
       "      <th>y_source</th>\n",
       "    </tr>\n",
       "  </thead>\n",
       "  <tbody>\n",
       "    <tr>\n",
       "      <th>0</th>\n",
       "      <td>disease_disease</td>\n",
       "      <td>parent-child</td>\n",
       "      <td>2816</td>\n",
       "      <td>disease</td>\n",
       "      <td>adrenal cortex disorder</td>\n",
       "      <td>MONDO</td>\n",
       "      <td>4</td>\n",
       "      <td>disease</td>\n",
       "      <td>adrenocortical insufficiency</td>\n",
       "      <td>MONDO</td>\n",
       "    </tr>\n",
       "  </tbody>\n",
       "</table>\n",
       "</div>"
      ],
      "text/plain": [
       "          relation display_relation  x_id   x_type                   x_name  \\\n",
       "0  disease_disease     parent-child  2816  disease  adrenal cortex disorder   \n",
       "\n",
       "  x_source y_id   y_type                        y_name y_source  \n",
       "0    MONDO    4  disease  adrenocortical insufficiency    MONDO  "
      ]
     },
     "execution_count": 9,
     "metadata": {},
     "output_type": "execute_result"
    }
   ],
   "source": [
    "df_dis_dis1 = pd.merge(df_mondo_parents, df_mondo_terms, 'left', left_on='parent', right_on='id')\n",
    "df_dis_dis1 = df_dis_dis1.rename(columns={'parent':'x_id', 'name':'x_name'})\n",
    "df_dis_dis1 = pd.merge(df_dis_dis1, df_mondo_terms, 'left', left_on='child', right_on='id')\n",
    "df_dis_dis1 = df_dis_dis1.rename(columns={'child':'y_id', 'name':'y_name'})\n",
    "df_dis_dis1['x_type'] = 'disease'\n",
    "df_dis_dis1['x_source'] = 'MONDO'\n",
    "df_dis_dis1['y_type'] = 'disease'\n",
    "df_dis_dis1['y_source'] = 'MONDO'\n",
    "df_dis_dis1['relation'] = 'disease_disease'\n",
    "df_dis_dis1['display_relation'] = 'parent-child'\n",
    "df_dis_dis1 = clean_edges(df_dis_dis1)\n",
    "df_dis_dis1.head(1)"
   ]
  },
  {
   "cell_type": "markdown",
   "metadata": {
    "hidden": true
   },
   "source": [
    "### Drug drug interactions (DrugBank)"
   ]
  },
  {
   "cell_type": "code",
   "execution_count": null,
   "metadata": {
    "ExecuteTime": {
     "end_time": "2021-08-06T12:18:15.697033Z",
     "start_time": "2021-08-06T12:18:02.616417Z"
    },
    "hidden": true
   },
   "outputs": [
    {
     "data": {
      "text/html": [
       "<div>\n",
       "<style scoped>\n",
       "    .dataframe tbody tr th:only-of-type {\n",
       "        vertical-align: middle;\n",
       "    }\n",
       "\n",
       "    .dataframe tbody tr th {\n",
       "        vertical-align: top;\n",
       "    }\n",
       "\n",
       "    .dataframe thead th {\n",
       "        text-align: right;\n",
       "    }\n",
       "</style>\n",
       "<table border=\"1\" class=\"dataframe\">\n",
       "  <thead>\n",
       "    <tr style=\"text-align: right;\">\n",
       "      <th></th>\n",
       "      <th>relation</th>\n",
       "      <th>display_relation</th>\n",
       "      <th>x_id</th>\n",
       "      <th>x_type</th>\n",
       "      <th>x_name</th>\n",
       "      <th>x_source</th>\n",
       "      <th>y_id</th>\n",
       "      <th>y_type</th>\n",
       "      <th>y_name</th>\n",
       "      <th>y_source</th>\n",
       "    </tr>\n",
       "  </thead>\n",
       "  <tbody>\n",
       "    <tr>\n",
       "      <th>0</th>\n",
       "      <td>drug_drug</td>\n",
       "      <td>synergistic interaction</td>\n",
       "      <td>DB00001</td>\n",
       "      <td>drug</td>\n",
       "      <td>Lepirudin</td>\n",
       "      <td>DrugBank</td>\n",
       "      <td>DB06605</td>\n",
       "      <td>drug</td>\n",
       "      <td>Apixaban</td>\n",
       "      <td>DrugBank</td>\n",
       "    </tr>\n",
       "  </tbody>\n",
       "</table>\n",
       "</div>"
      ],
      "text/plain": [
       "    relation         display_relation     x_id x_type     x_name  x_source  \\\n",
       "0  drug_drug  synergistic interaction  DB00001   drug  Lepirudin  DrugBank   \n",
       "\n",
       "      y_id y_type    y_name  y_source  \n",
       "0  DB06605   drug  Apixaban  DrugBank  "
      ]
     },
     "execution_count": 10,
     "metadata": {},
     "output_type": "execute_result"
    }
   ],
   "source": [
    "df_drug_drug = pd.merge(df_ddi, db_vocab, 'inner', left_on='drug1', right_on='DrugBank ID')\n",
    "df_drug_drug = df_drug_drug.rename(columns={'drug1':'x_id', 'Common name':'x_name'})\n",
    "df_drug_drug = pd.merge(df_drug_drug.astype({'drug2':'str'}), db_vocab, 'inner', left_on='drug2', right_on='DrugBank ID')\n",
    "df_drug_drug = df_drug_drug.rename(columns={'drug2':'y_id', 'Common name':'y_name'})\n",
    "df_drug_drug['x_type'] = 'drug'\n",
    "df_drug_drug['x_source'] = 'DrugBank'\n",
    "df_drug_drug['y_type'] = 'drug'\n",
    "df_drug_drug['y_source'] = 'DrugBank'\n",
    "df_drug_drug['relation'] = 'drug_drug'\n",
    "df_drug_drug['display_relation'] = 'synergistic interaction'\n",
    "df_drug_drug = clean_edges(df_drug_drug)\n",
    "df_drug_drug.head(1)"
   ]
  },
  {
   "cell_type": "markdown",
   "metadata": {
    "hidden": true
   },
   "source": [
    "## Effect/Phenotype"
   ]
  },
  {
   "cell_type": "markdown",
   "metadata": {
    "hidden": true
   },
   "source": [
    "### Effect protein interactions (DisGenNet)"
   ]
  },
  {
   "cell_type": "code",
   "execution_count": null,
   "metadata": {
    "ExecuteTime": {
     "end_time": "2021-08-06T12:18:16.132855Z",
     "start_time": "2021-08-06T12:18:15.701935Z"
    },
    "hidden": true
   },
   "outputs": [
    {
     "data": {
      "text/html": [
       "<div>\n",
       "<style scoped>\n",
       "    .dataframe tbody tr th:only-of-type {\n",
       "        vertical-align: middle;\n",
       "    }\n",
       "\n",
       "    .dataframe tbody tr th {\n",
       "        vertical-align: top;\n",
       "    }\n",
       "\n",
       "    .dataframe thead th {\n",
       "        text-align: right;\n",
       "    }\n",
       "</style>\n",
       "<table border=\"1\" class=\"dataframe\">\n",
       "  <thead>\n",
       "    <tr style=\"text-align: right;\">\n",
       "      <th></th>\n",
       "      <th>relation</th>\n",
       "      <th>display_relation</th>\n",
       "      <th>x_id</th>\n",
       "      <th>x_type</th>\n",
       "      <th>x_name</th>\n",
       "      <th>x_source</th>\n",
       "      <th>y_id</th>\n",
       "      <th>y_type</th>\n",
       "      <th>y_name</th>\n",
       "      <th>y_source</th>\n",
       "    </tr>\n",
       "  </thead>\n",
       "  <tbody>\n",
       "    <tr>\n",
       "      <th>0</th>\n",
       "      <td>phenotype_protein</td>\n",
       "      <td>associated with</td>\n",
       "      <td>1</td>\n",
       "      <td>gene/protein</td>\n",
       "      <td>A1BG</td>\n",
       "      <td>NCBI</td>\n",
       "      <td>2240</td>\n",
       "      <td>effect/phenotype</td>\n",
       "      <td>Hepatomegaly</td>\n",
       "      <td>HPO</td>\n",
       "    </tr>\n",
       "  </tbody>\n",
       "</table>\n",
       "</div>"
      ],
      "text/plain": [
       "            relation display_relation x_id        x_type x_name x_source  \\\n",
       "0  phenotype_protein  associated with    1  gene/protein   A1BG     NCBI   \n",
       "\n",
       "   y_id            y_type        y_name y_source  \n",
       "0  2240  effect/phenotype  Hepatomegaly      HPO  "
      ]
     },
     "execution_count": 11,
     "metadata": {},
     "output_type": "execute_result"
    }
   ],
   "source": [
    "df_prot_phe = df_disgenet.query('diseaseType==\"phenotype\"')\n",
    "\n",
    "df_prot_phe = pd.merge(df_prot_phe, df_hp_xref, 'inner', left_on='diseaseId', right_on='ontology_id')\n",
    "df_prot_phe = pd.merge(df_prot_phe, df_hp_terms, 'left', left_on='hp_id', right_on='id')\n",
    "\n",
    "df_prot_phe = df_prot_phe.rename(columns={'geneId':'x_id', 'geneSymbol':'x_name', 'hp_id':'y_id', 'name':'y_name'})\n",
    "df_prot_phe['x_type'] = 'gene/protein'\n",
    "df_prot_phe['x_source'] = 'NCBI'\n",
    "df_prot_phe['y_type'] = 'effect/phenotype'\n",
    "df_prot_phe['y_source'] = 'HPO'\n",
    "df_prot_phe['relation'] = 'phenotype_protein'\n",
    "df_prot_phe['display_relation'] = 'associated with'\n",
    "df_prot_phe = clean_edges(df_prot_phe)\n",
    "df_prot_phe.head(1)"
   ]
  },
  {
   "cell_type": "markdown",
   "metadata": {
    "hidden": true
   },
   "source": [
    "### Effect effect interactions (HPO)"
   ]
  },
  {
   "cell_type": "code",
   "execution_count": null,
   "metadata": {
    "ExecuteTime": {
     "end_time": "2021-08-06T12:18:16.566142Z",
     "start_time": "2021-08-06T12:18:16.138257Z"
    },
    "hidden": true
   },
   "outputs": [
    {
     "data": {
      "text/html": [
       "<div>\n",
       "<style scoped>\n",
       "    .dataframe tbody tr th:only-of-type {\n",
       "        vertical-align: middle;\n",
       "    }\n",
       "\n",
       "    .dataframe tbody tr th {\n",
       "        vertical-align: top;\n",
       "    }\n",
       "\n",
       "    .dataframe thead th {\n",
       "        text-align: right;\n",
       "    }\n",
       "</style>\n",
       "<table border=\"1\" class=\"dataframe\">\n",
       "  <thead>\n",
       "    <tr style=\"text-align: right;\">\n",
       "      <th></th>\n",
       "      <th>relation</th>\n",
       "      <th>display_relation</th>\n",
       "      <th>x_id</th>\n",
       "      <th>x_type</th>\n",
       "      <th>x_name</th>\n",
       "      <th>x_source</th>\n",
       "      <th>y_id</th>\n",
       "      <th>y_type</th>\n",
       "      <th>y_name</th>\n",
       "      <th>y_source</th>\n",
       "    </tr>\n",
       "  </thead>\n",
       "  <tbody>\n",
       "    <tr>\n",
       "      <th>0</th>\n",
       "      <td>phenotype_phenotype</td>\n",
       "      <td>parent-child</td>\n",
       "      <td>1507</td>\n",
       "      <td>effect/phenotype</td>\n",
       "      <td>Growth abnormality</td>\n",
       "      <td>HPO</td>\n",
       "      <td>2</td>\n",
       "      <td>effect/phenotype</td>\n",
       "      <td>Abnormality of body height</td>\n",
       "      <td>HPO</td>\n",
       "    </tr>\n",
       "  </tbody>\n",
       "</table>\n",
       "</div>"
      ],
      "text/plain": [
       "              relation display_relation  x_id            x_type  \\\n",
       "0  phenotype_phenotype     parent-child  1507  effect/phenotype   \n",
       "\n",
       "               x_name x_source y_id            y_type  \\\n",
       "0  Growth abnormality      HPO    2  effect/phenotype   \n",
       "\n",
       "                       y_name y_source  \n",
       "0  Abnormality of body height      HPO  "
      ]
     },
     "execution_count": 12,
     "metadata": {},
     "output_type": "execute_result"
    }
   ],
   "source": [
    "df_phe_phe = pd.merge(df_hp_parents, df_hp_terms, 'left', left_on='parent', right_on='id')\n",
    "df_phe_phe = df_phe_phe.rename(columns={'name':'parent_name'})\n",
    "df_phe_phe = pd.merge(df_phe_phe, df_hp_terms, 'left', left_on='child', right_on='id')\n",
    "df_phe_phe = df_phe_phe.rename(columns={'name':'child_name'})\n",
    "df_phe_phe = df_phe_phe.get(['parent', 'child', 'parent_name', 'child_name'])\n",
    "\n",
    "df_phe_phe = df_phe_phe.rename(columns={'parent':'x_id', 'child':'y_id', 'parent_name':'x_name', 'child_name':'y_name'})\n",
    "df_phe_phe['x_type'] = 'effect/phenotype'\n",
    "df_phe_phe['x_source'] = 'HPO'\n",
    "df_phe_phe['y_type'] = 'effect/phenotype'\n",
    "df_phe_phe['y_source'] = 'HPO'\n",
    "df_phe_phe['relation'] = 'phenotype_phenotype'\n",
    "df_phe_phe['display_relation'] = 'parent-child'\n",
    "df_phe_phe = clean_edges(df_phe_phe)\n",
    "df_phe_phe.head(1)"
   ]
  },
  {
   "cell_type": "markdown",
   "metadata": {
    "hidden": true
   },
   "source": [
    "### Disease effect interactions (HPO-A)"
   ]
  },
  {
   "cell_type": "code",
   "execution_count": null,
   "metadata": {
    "ExecuteTime": {
     "end_time": "2021-08-06T12:18:18.049528Z",
     "start_time": "2021-08-06T12:18:16.571436Z"
    },
    "hidden": true,
    "scrolled": true
   },
   "outputs": [
    {
     "data": {
      "text/html": [
       "<div>\n",
       "<style scoped>\n",
       "    .dataframe tbody tr th:only-of-type {\n",
       "        vertical-align: middle;\n",
       "    }\n",
       "\n",
       "    .dataframe tbody tr th {\n",
       "        vertical-align: top;\n",
       "    }\n",
       "\n",
       "    .dataframe thead th {\n",
       "        text-align: right;\n",
       "    }\n",
       "</style>\n",
       "<table border=\"1\" class=\"dataframe\">\n",
       "  <thead>\n",
       "    <tr style=\"text-align: right;\">\n",
       "      <th></th>\n",
       "      <th>relation</th>\n",
       "      <th>display_relation</th>\n",
       "      <th>x_id</th>\n",
       "      <th>x_type</th>\n",
       "      <th>x_name</th>\n",
       "      <th>x_source</th>\n",
       "      <th>y_id</th>\n",
       "      <th>y_type</th>\n",
       "      <th>y_name</th>\n",
       "      <th>y_source</th>\n",
       "    </tr>\n",
       "  </thead>\n",
       "  <tbody>\n",
       "    <tr>\n",
       "      <th>0</th>\n",
       "      <td>disease_phenotype_positive</td>\n",
       "      <td>phenotype present</td>\n",
       "      <td>23659</td>\n",
       "      <td>disease</td>\n",
       "      <td>developmental and epileptic encephalopathy 96</td>\n",
       "      <td>MONDO</td>\n",
       "      <td>11097</td>\n",
       "      <td>effect/phenotype</td>\n",
       "      <td>Epileptic spasm</td>\n",
       "      <td>HPO</td>\n",
       "    </tr>\n",
       "  </tbody>\n",
       "</table>\n",
       "</div>"
      ],
      "text/plain": [
       "                     relation   display_relation   x_id   x_type  \\\n",
       "0  disease_phenotype_positive  phenotype present  23659  disease   \n",
       "\n",
       "                                          x_name x_source   y_id  \\\n",
       "0  developmental and epileptic encephalopathy 96    MONDO  11097   \n",
       "\n",
       "             y_type           y_name y_source  \n",
       "0  effect/phenotype  Epileptic spasm      HPO  "
      ]
     },
     "execution_count": 13,
     "metadata": {},
     "output_type": "execute_result"
    }
   ],
   "source": [
    "df_dis_phe_pos1 = pd.merge(df_hpoa_pos, df_mondo_xref, 'left', left_on='disease_ontology_id', right_on='ontology_id')\n",
    "df_dis_phe_pos1 = df_dis_phe_pos1.query('(disease_ontology==ontology) or (disease_ontology==\"ORPHA\" and ontology==\"Orphanet\")')\n",
    "df_dis_phe_pos1 = pd.merge(df_dis_phe_pos1, df_hp_terms, 'left', left_on='hp_id', right_on='id').rename(columns={'name':'hp_name'})\n",
    "df_dis_phe_pos1 = pd.merge(df_dis_phe_pos1, df_mondo_terms, 'left', left_on='mondo_id', right_on='id').rename(columns={'name':'mondo_name'})\n",
    "df_dis_phe_pos1 = df_dis_phe_pos1.get(['mondo_id', 'mondo_name', 'hp_id', 'hp_name'])\n",
    "df_dis_phe_pos1 = df_dis_phe_pos1.rename(columns={'mondo_id':'x_id', 'mondo_name':'x_name', 'hp_id': 'y_id', 'hp_name':'y_name'})\n",
    "df_dis_phe_pos1.loc[:, 'x_source'] = 'MONDO'\n",
    "df_dis_phe_pos1.loc[:, 'x_type'] = 'disease'\n",
    "df_dis_phe_pos1.loc[:, 'y_source'] = 'HPO'\n",
    "df_dis_phe_pos1.loc[:, 'y_type'] = 'effect/phenotype'\n",
    "df_dis_phe_pos1.loc[:, 'relation'] = 'disease_phenotype_positive'\n",
    "df_dis_phe_pos1.loc[:, 'display_relation'] = 'phenotype present'\n",
    "df_dis_phe_pos1 = clean_edges(df_dis_phe_pos1)\n",
    "df_dis_phe_pos1.head(1)"
   ]
  },
  {
   "cell_type": "code",
   "execution_count": null,
   "metadata": {
    "ExecuteTime": {
     "end_time": "2021-08-06T12:18:18.294348Z",
     "start_time": "2021-08-06T12:18:18.051937Z"
    },
    "hidden": true
   },
   "outputs": [
    {
     "data": {
      "text/html": [
       "<div>\n",
       "<style scoped>\n",
       "    .dataframe tbody tr th:only-of-type {\n",
       "        vertical-align: middle;\n",
       "    }\n",
       "\n",
       "    .dataframe tbody tr th {\n",
       "        vertical-align: top;\n",
       "    }\n",
       "\n",
       "    .dataframe thead th {\n",
       "        text-align: right;\n",
       "    }\n",
       "</style>\n",
       "<table border=\"1\" class=\"dataframe\">\n",
       "  <thead>\n",
       "    <tr style=\"text-align: right;\">\n",
       "      <th></th>\n",
       "      <th>relation</th>\n",
       "      <th>display_relation</th>\n",
       "      <th>x_id</th>\n",
       "      <th>x_type</th>\n",
       "      <th>x_name</th>\n",
       "      <th>x_source</th>\n",
       "      <th>y_id</th>\n",
       "      <th>y_type</th>\n",
       "      <th>y_name</th>\n",
       "      <th>y_source</th>\n",
       "    </tr>\n",
       "  </thead>\n",
       "  <tbody>\n",
       "    <tr>\n",
       "      <th>0</th>\n",
       "      <td>disease_phenotype_negative</td>\n",
       "      <td>phenotype absent</td>\n",
       "      <td>12204</td>\n",
       "      <td>disease</td>\n",
       "      <td>familial pseudohyperkalemia</td>\n",
       "      <td>MONDO</td>\n",
       "      <td>1878</td>\n",
       "      <td>effect/phenotype</td>\n",
       "      <td>Hemolytic anemia</td>\n",
       "      <td>HPO</td>\n",
       "    </tr>\n",
       "  </tbody>\n",
       "</table>\n",
       "</div>"
      ],
      "text/plain": [
       "                     relation  display_relation   x_id   x_type  \\\n",
       "0  disease_phenotype_negative  phenotype absent  12204  disease   \n",
       "\n",
       "                        x_name x_source  y_id            y_type  \\\n",
       "0  familial pseudohyperkalemia    MONDO  1878  effect/phenotype   \n",
       "\n",
       "             y_name y_source  \n",
       "0  Hemolytic anemia      HPO  "
      ]
     },
     "execution_count": 14,
     "metadata": {},
     "output_type": "execute_result"
    }
   ],
   "source": [
    "df_dis_phe_neg = pd.merge(df_hpoa_neg, df_mondo_xref, 'left', left_on='disease_ontology_id', right_on='ontology_id')\n",
    "df_dis_phe_neg = df_dis_phe_neg.query('(disease_ontology==ontology) or (disease_ontology==\"ORPHA\" and ontology==\"Orphanet\")')\n",
    "df_dis_phe_neg = pd.merge(df_dis_phe_neg, df_hp_terms, 'left', left_on='hp_id', right_on='id').rename(columns={'name':'hp_name'})\n",
    "df_dis_phe_neg = pd.merge(df_dis_phe_neg, df_mondo_terms, 'left', left_on='mondo_id', right_on='id').rename(columns={'name':'mondo_name'})\n",
    "df_dis_phe_neg = df_dis_phe_neg.get(['mondo_id', 'mondo_name', 'hp_id', 'hp_name'])\n",
    "df_dis_phe_neg = df_dis_phe_neg.rename(columns={'mondo_id':'x_id', 'mondo_name':'x_name', 'hp_id': 'y_id', 'hp_name':'y_name'})\n",
    "df_dis_phe_neg.loc[:, 'x_source'] = 'MONDO'\n",
    "df_dis_phe_neg.loc[:, 'x_type'] = 'disease'\n",
    "df_dis_phe_neg.loc[:, 'y_source'] = 'HPO'\n",
    "df_dis_phe_neg.loc[:, 'y_type'] = 'effect/phenotype'\n",
    "df_dis_phe_neg.loc[:, 'relation'] = 'disease_phenotype_negative'\n",
    "df_dis_phe_neg.loc[:, 'display_relation'] = 'phenotype absent'\n",
    "df_dis_phe_neg = clean_edges(df_dis_phe_neg)\n",
    "df_dis_phe_neg.head(1)"
   ]
  },
  {
   "cell_type": "markdown",
   "metadata": {
    "hidden": true
   },
   "source": [
    "### Remove phenotype nodes if they exist in MONDO"
   ]
  },
  {
   "cell_type": "code",
   "execution_count": null,
   "metadata": {
    "ExecuteTime": {
     "end_time": "2021-08-06T12:18:18.395112Z",
     "start_time": "2021-08-06T12:18:18.296744Z"
    },
    "code_folding": [],
    "hidden": true
   },
   "outputs": [
    {
     "name": "stderr",
     "output_type": "stream",
     "text": [
      "/tmp/ipykernel_7821/986301391.py:4: SettingWithCopyWarning: \n",
      "A value is trying to be set on a copy of a slice from a DataFrame.\n",
      "Try using .loc[row_indexer,col_indexer] = value instead\n",
      "\n",
      "See the caveats in the documentation: https://pandas.pydata.org/pandas-docs/stable/user_guide/indexing.html#returning-a-view-versus-a-copy\n",
      "  mondo_xref_hp_subset.loc[:, 'ontology_id'] = mondo_xref_hp_subset.get('ontology_id').astype(int).astype(str).values\n"
     ]
    }
   ],
   "source": [
    "# phenotypes that are actually diseases in MONDO\n",
    "# avoid duplicate nodes and convert them to disease relations\n",
    "mondo_xref_hp_subset = df_mondo_xref.query('ontology==\"HP\"')\n",
    "mondo_xref_hp_subset.loc[:, 'ontology_id'] = mondo_xref_hp_subset.get('ontology_id').astype(int).astype(str).values\n",
    "hp_ids_r_mondo = pd.merge(mondo_xref_hp_subset, df_hp_terms, 'inner', left_on='ontology_id', right_on='id').get('ontology_id').values\n",
    "\n",
    "def replace_hp_data_w_mondo(df, hp_id_col, drop_cols=[]): \n",
    "    cols = list(df.columns.values)\n",
    "    cols.extend(['mondo_id', 'mondo_name'])\n",
    "    [cols.remove(x) for x in drop_cols]\n",
    "    df = pd.merge(df, mondo_xref_hp_subset, 'left', left_on=hp_id_col, right_on='ontology_id')\n",
    "    df = pd.merge(df, df_mondo_terms, 'left', left_on='mondo_id', right_on='id')\n",
    "    df = df.rename(columns={'name':'mondo_name'}).get(cols)\n",
    "    return df"
   ]
  },
  {
   "cell_type": "code",
   "execution_count": null,
   "metadata": {
    "ExecuteTime": {
     "end_time": "2021-08-06T12:18:18.615544Z",
     "start_time": "2021-08-06T12:18:18.397091Z"
    },
    "code_folding": [],
    "hidden": true
   },
   "outputs": [],
   "source": [
    "# HANDLE EFFECT EFFECT \n",
    "\n",
    "# PHE-PHE should be PHE-DIS if ONE PHE is in MONDO\n",
    "\n",
    "df_dis_phe_x = df_phe_phe.query('x_id in @hp_ids_r_mondo and y_id not in @hp_ids_r_mondo')\n",
    "df_dis_phe_x = replace_hp_data_w_mondo(df=df_dis_phe_x, hp_id_col='x_id', \n",
    "                                       drop_cols=[c for c in df_dis_phe_x.columns.values if 'x_' in c])\n",
    "df_dis_phe_x = df_dis_phe_x.rename(columns={'mondo_id':'x_id', 'mondo_name':'x_name'})\n",
    "df_dis_phe_x.loc[:, 'x_source'] = 'MONDO'\n",
    "df_dis_phe_x.loc[:, 'x_type'] = 'disease'\n",
    "\n",
    "df_dis_phe_y = df_phe_phe.query('y_id in @hp_ids_r_mondo and x_id not in @hp_ids_r_mondo')\n",
    "df_dis_phe_y = replace_hp_data_w_mondo(df=df_dis_phe_y, hp_id_col='y_id',\n",
    "                                       drop_cols=[c for c in df_dis_phe_y.columns.values if 'y_' in c])\n",
    "df_dis_phe_y = df_dis_phe_y.rename(columns={'mondo_id':'y_id', 'mondo_name':'y_name'})\n",
    "df_dis_phe_y.loc[:, 'y_source'] = 'MONDO'\n",
    "df_dis_phe_y.loc[:, 'y_type'] = 'disease'\n",
    "\n",
    "df_dis_phe_pos2 = pd.concat([df_dis_phe_x, df_dis_phe_y], ignore_index=True)\n",
    "df_dis_phe_pos2['relation'] = 'disease_phenotype_positive'\n",
    "df_dis_phe_pos2.loc[:, 'display_relation'] = 'phenotype present'\n",
    "df_dis_phe_pos2 = clean_edges(df_dis_phe_pos2)\n",
    "\n",
    "\n",
    "# PHE-PHE should be DIS-DIS if BOTH PHE are in MONDO\n",
    "\n",
    "df_dis_dis2 = df_phe_phe.query('x_id in @hp_ids_r_mondo and y_id in @hp_ids_r_mondo')\n",
    "df_dis_dis2 = replace_hp_data_w_mondo(df=df_dis_dis2, \n",
    "                                       hp_id_col='x_id', \n",
    "                                       drop_cols=[c for c in df_dis_dis2.columns.values if 'x_' in c])\n",
    "df_dis_dis2 = df_dis_dis2.rename(columns={'mondo_id':'x_id', 'mondo_name':'x_name'})\n",
    "df_dis_dis2 = replace_hp_data_w_mondo(df=df_dis_dis2, \n",
    "                                       hp_id_col='y_id', \n",
    "                                       drop_cols=[c for c in df_dis_dis2.columns.values if 'y_' in c])\n",
    "df_dis_dis2 = df_dis_dis2.rename(columns={'mondo_id':'y_id', 'mondo_name':'y_name'})\n",
    "df_dis_dis2.loc[:, 'x_source'] = 'MONDO'\n",
    "df_dis_dis2.loc[:, 'x_type'] = 'disease'\n",
    "df_dis_dis2.loc[:, 'y_source'] = 'MONDO'\n",
    "df_dis_dis2.loc[:, 'y_type'] = 'disease'\n",
    "df_dis_dis2.loc[:,'relation'] = 'disease_disease'\n",
    "df_dis_dis2.loc[:,'display_relation'] = 'parent-child'\n",
    "df_dis_dis2 = clean_edges(df_dis_dis2)\n",
    "\n",
    "# drop relations in PHE PHE if either PHE is in MONDO\n",
    "# phenotype phenotype should have no disease nodes\n",
    "df_phe_phe = df_phe_phe.query('x_id not in @hp_ids_r_mondo and y_id not in @hp_ids_r_mondo')"
   ]
  },
  {
   "cell_type": "code",
   "execution_count": null,
   "metadata": {
    "ExecuteTime": {
     "end_time": "2021-08-06T12:18:18.800901Z",
     "start_time": "2021-08-06T12:18:18.619402Z"
    },
    "code_folding": [],
    "hidden": true
   },
   "outputs": [],
   "source": [
    "# HANDLE PROTEIN EFFECT \n",
    "\n",
    "# if phenotype in MONDO make it protein-disease relations \n",
    "df_prot_dis2= df_prot_phe.query('y_id in @hp_ids_r_mondo')\n",
    "df_prot_dis2 = replace_hp_data_w_mondo(df=df_prot_dis2, hp_id_col='y_id',\n",
    "                                       drop_cols=[c for c in df_prot_dis2.columns.values if 'y_' in c])\n",
    "df_prot_dis2 = df_prot_dis2.rename(columns={'mondo_id':'y_id', 'mondo_name':'y_name'})\n",
    "df_prot_dis2.loc[:, 'y_source'] = 'MONDO'\n",
    "df_prot_dis2.loc[:, 'y_type'] = 'disease'\n",
    "df_prot_dis2.loc[:, 'relation'] = 'disease_protein'\n",
    "df_prot_dis2.loc[:, 'display_relation'] = 'associated with'\n",
    "df_prot_dis2 = clean_edges(df_prot_dis2)\n",
    "\n",
    "# remove from protein-phenotype if phenotype in MONDO \n",
    "df_prot_phe = df_prot_phe.query('y_id not in @hp_ids_r_mondo')"
   ]
  },
  {
   "cell_type": "code",
   "execution_count": null,
   "metadata": {
    "ExecuteTime": {
     "end_time": "2021-08-06T12:18:19.042217Z",
     "start_time": "2021-08-06T12:18:18.807270Z"
    },
    "code_folding": [],
    "hidden": true
   },
   "outputs": [],
   "source": [
    "# HANDLE DISEASE EFFECT \n",
    "\n",
    "# remove from protein-phenotype if phenotype in MONDO \n",
    "df_dis_phe_pos1 = df_dis_phe_pos1.query('y_id not in @hp_ids_r_mondo')\n",
    "\n",
    "# NEGATIVE disease_phenotype should just be dropped because negative disease_disease doesn't make sense \n",
    "df_dis_phe_neg = df_dis_phe_neg.query('y_id not in @hp_ids_r_mondo')"
   ]
  },
  {
   "cell_type": "code",
   "execution_count": null,
   "metadata": {
    "ExecuteTime": {
     "end_time": "2021-08-06T12:18:19.533348Z",
     "start_time": "2021-08-06T12:18:19.057321Z"
    },
    "hidden": true
   },
   "outputs": [],
   "source": [
    "# COMBINE DATAFRAMES \n",
    "\n",
    "df_prot_dis = pd.concat([df_prot_dis1, df_prot_dis2], ignore_index=True).drop_duplicates()\n",
    "df_dis_dis = pd.concat([df_dis_dis1, df_dis_dis2], ignore_index=True).drop_duplicates()\n",
    "df_dis_phe_pos = pd.concat([df_dis_phe_pos1, df_dis_phe_pos2], ignore_index=True).drop_duplicates()"
   ]
  },
  {
   "cell_type": "markdown",
   "metadata": {
    "hidden": true
   },
   "source": [
    "### Drug effect interactions (SIDER)"
   ]
  },
  {
   "cell_type": "code",
   "execution_count": null,
   "metadata": {
    "ExecuteTime": {
     "end_time": "2021-08-06T12:18:20.396548Z",
     "start_time": "2021-08-06T12:18:19.535589Z"
    },
    "hidden": true
   },
   "outputs": [
    {
     "data": {
      "text/html": [
       "<div>\n",
       "<style scoped>\n",
       "    .dataframe tbody tr th:only-of-type {\n",
       "        vertical-align: middle;\n",
       "    }\n",
       "\n",
       "    .dataframe tbody tr th {\n",
       "        vertical-align: top;\n",
       "    }\n",
       "\n",
       "    .dataframe thead th {\n",
       "        text-align: right;\n",
       "    }\n",
       "</style>\n",
       "<table border=\"1\" class=\"dataframe\">\n",
       "  <thead>\n",
       "    <tr style=\"text-align: right;\">\n",
       "      <th></th>\n",
       "      <th>relation</th>\n",
       "      <th>display_relation</th>\n",
       "      <th>x_id</th>\n",
       "      <th>x_type</th>\n",
       "      <th>x_name</th>\n",
       "      <th>x_source</th>\n",
       "      <th>y_id</th>\n",
       "      <th>y_type</th>\n",
       "      <th>y_name</th>\n",
       "      <th>y_source</th>\n",
       "    </tr>\n",
       "  </thead>\n",
       "  <tbody>\n",
       "    <tr>\n",
       "      <th>0</th>\n",
       "      <td>drug_effect</td>\n",
       "      <td>side effect</td>\n",
       "      <td>DB00583</td>\n",
       "      <td>drug</td>\n",
       "      <td>Levocarnitine</td>\n",
       "      <td>DrugBank</td>\n",
       "      <td>2027</td>\n",
       "      <td>effect/phenotype</td>\n",
       "      <td>Abdominal pain</td>\n",
       "      <td>HPO</td>\n",
       "    </tr>\n",
       "  </tbody>\n",
       "</table>\n",
       "</div>"
      ],
      "text/plain": [
       "      relation display_relation     x_id x_type         x_name  x_source  \\\n",
       "0  drug_effect      side effect  DB00583   drug  Levocarnitine  DrugBank   \n",
       "\n",
       "   y_id            y_type          y_name y_source  \n",
       "0  2027  effect/phenotype  Abdominal pain      HPO  "
      ]
     },
     "execution_count": 20,
     "metadata": {},
     "output_type": "execute_result"
    }
   ],
   "source": [
    "df_drug_effect = pd.merge(df_sider, df_db_atc, 'left', left_on='atc', right_on='atc_code')\n",
    "df_drug_effect = df_drug_effect.rename(columns={'parent_key':'DrugBank', 'UMLS_from_meddra':'UMLS'})\n",
    "df_drug_effect = pd.merge(df_drug_effect, db_vocab, 'left', left_on='DrugBank', right_on='DrugBank ID')\n",
    "df_drug_effect = pd.merge(df_drug_effect, df_hp_xref, 'left', left_on='UMLS' , right_on='ontology_id')\n",
    "df_drug_effect = pd.merge(df_drug_effect, df_hp_terms, 'left', left_on='hp_id' , right_on='id')\n",
    "df_drug_effect = df_drug_effect.get(['DrugBank ID','Common name','hp_id', 'name'])\n",
    "df_drug_effect = df_drug_effect.dropna().drop_duplicates()\n",
    "\n",
    "df_drug_effect = df_drug_effect.rename(columns={'DrugBank ID':'x_id', 'Common name':'x_name', 'hp_id':'y_id', 'name':'y_name'})\n",
    "df_drug_effect['x_type'] = 'drug'\n",
    "df_drug_effect['x_source'] = 'DrugBank'\n",
    "df_drug_effect['y_type'] = 'effect/phenotype'\n",
    "df_drug_effect['y_source'] = 'HPO'\n",
    "df_drug_effect['relation'] = 'drug_effect'\n",
    "df_drug_effect['display_relation'] = 'side effect'\n",
    "df_drug_effect = df_drug_effect.query('y_id not in @hp_ids_r_mondo')\n",
    "df_drug_effect = clean_edges(df_drug_effect)\n",
    "df_drug_effect.head(1)"
   ]
  },
  {
   "cell_type": "markdown",
   "metadata": {
    "hidden": true
   },
   "source": [
    "## GO Terms"
   ]
  },
  {
   "cell_type": "markdown",
   "metadata": {
    "hidden": true
   },
   "source": [
    "### Go terms interactions (GO)"
   ]
  },
  {
   "cell_type": "code",
   "execution_count": null,
   "metadata": {
    "ExecuteTime": {
     "end_time": "2021-08-06T12:18:20.828806Z",
     "start_time": "2021-08-06T12:18:20.400380Z"
    },
    "hidden": true
   },
   "outputs": [
    {
     "data": {
      "text/html": [
       "<div>\n",
       "<style scoped>\n",
       "    .dataframe tbody tr th:only-of-type {\n",
       "        vertical-align: middle;\n",
       "    }\n",
       "\n",
       "    .dataframe tbody tr th {\n",
       "        vertical-align: top;\n",
       "    }\n",
       "\n",
       "    .dataframe thead th {\n",
       "        text-align: right;\n",
       "    }\n",
       "</style>\n",
       "<table border=\"1\" class=\"dataframe\">\n",
       "  <thead>\n",
       "    <tr style=\"text-align: right;\">\n",
       "      <th></th>\n",
       "      <th>relation</th>\n",
       "      <th>display_relation</th>\n",
       "      <th>x_id</th>\n",
       "      <th>x_type</th>\n",
       "      <th>x_name</th>\n",
       "      <th>x_source</th>\n",
       "      <th>y_id</th>\n",
       "      <th>y_type</th>\n",
       "      <th>y_name</th>\n",
       "      <th>y_source</th>\n",
       "    </tr>\n",
       "  </thead>\n",
       "  <tbody>\n",
       "    <tr>\n",
       "      <th>0</th>\n",
       "      <td>bioprocess_bioprocess</td>\n",
       "      <td>parent-child</td>\n",
       "      <td>35296</td>\n",
       "      <td>biological_process</td>\n",
       "      <td>regulation of tube diameter</td>\n",
       "      <td>GO</td>\n",
       "      <td>97746</td>\n",
       "      <td>biological_process</td>\n",
       "      <td>blood vessel diameter maintenance</td>\n",
       "      <td>GO</td>\n",
       "    </tr>\n",
       "  </tbody>\n",
       "</table>\n",
       "</div>"
      ],
      "text/plain": [
       "                relation display_relation   x_id              x_type  \\\n",
       "0  bioprocess_bioprocess     parent-child  35296  biological_process   \n",
       "\n",
       "                        x_name x_source   y_id              y_type  \\\n",
       "0  regulation of tube diameter       GO  97746  biological_process   \n",
       "\n",
       "                              y_name y_source  \n",
       "0  blood vessel diameter maintenance       GO  "
      ]
     },
     "execution_count": 21,
     "metadata": {},
     "output_type": "execute_result"
    }
   ],
   "source": [
    "bp = df_go_terms.query('go_term_type==\"biological_process\"')\n",
    "df_bp_bp = pd.merge(df_go_edges, bp, 'inner', left_on='x', right_on='go_term_id')\n",
    "df_bp_bp = df_bp_bp.rename(columns={'go_term_id':'x_id','go_term_name':'x_name','go_term_type':'x_type'})\n",
    "df_bp_bp = pd.merge(df_bp_bp, bp, 'inner', left_on='y', right_on='go_term_id')\n",
    "df_bp_bp = df_bp_bp.rename(columns={'go_term_id':'y_id','go_term_name':'y_name','go_term_type':'y_type'})\n",
    "df_bp_bp['relation'] = 'bioprocess_bioprocess'\n",
    "df_bp_bp['x_source'] = 'GO'\n",
    "df_bp_bp['y_source'] = 'GO'\n",
    "df_bp_bp['display_relation'] = 'parent-child'\n",
    "df_bp_bp = clean_edges(df_bp_bp)\n",
    "df_bp_bp.head(1)"
   ]
  },
  {
   "cell_type": "code",
   "execution_count": null,
   "metadata": {
    "ExecuteTime": {
     "end_time": "2021-08-06T12:18:20.988390Z",
     "start_time": "2021-08-06T12:18:20.831955Z"
    },
    "hidden": true
   },
   "outputs": [
    {
     "data": {
      "text/html": [
       "<div>\n",
       "<style scoped>\n",
       "    .dataframe tbody tr th:only-of-type {\n",
       "        vertical-align: middle;\n",
       "    }\n",
       "\n",
       "    .dataframe tbody tr th {\n",
       "        vertical-align: top;\n",
       "    }\n",
       "\n",
       "    .dataframe thead th {\n",
       "        text-align: right;\n",
       "    }\n",
       "</style>\n",
       "<table border=\"1\" class=\"dataframe\">\n",
       "  <thead>\n",
       "    <tr style=\"text-align: right;\">\n",
       "      <th></th>\n",
       "      <th>relation</th>\n",
       "      <th>display_relation</th>\n",
       "      <th>x_id</th>\n",
       "      <th>x_type</th>\n",
       "      <th>x_name</th>\n",
       "      <th>x_source</th>\n",
       "      <th>y_id</th>\n",
       "      <th>y_type</th>\n",
       "      <th>y_name</th>\n",
       "      <th>y_source</th>\n",
       "    </tr>\n",
       "  </thead>\n",
       "  <tbody>\n",
       "    <tr>\n",
       "      <th>0</th>\n",
       "      <td>molfunc_molfunc</td>\n",
       "      <td>parent-child</td>\n",
       "      <td>16836</td>\n",
       "      <td>molecular_function</td>\n",
       "      <td>hydro-lyase activity</td>\n",
       "      <td>GO</td>\n",
       "      <td>18808</td>\n",
       "      <td>molecular_function</td>\n",
       "      <td>trans-4-(1'-hydroxynaphth-2'-yl)-2-oxobut-3-en...</td>\n",
       "      <td>GO</td>\n",
       "    </tr>\n",
       "  </tbody>\n",
       "</table>\n",
       "</div>"
      ],
      "text/plain": [
       "          relation display_relation   x_id              x_type  \\\n",
       "0  molfunc_molfunc     parent-child  16836  molecular_function   \n",
       "\n",
       "                 x_name x_source   y_id              y_type  \\\n",
       "0  hydro-lyase activity       GO  18808  molecular_function   \n",
       "\n",
       "                                              y_name y_source  \n",
       "0  trans-4-(1'-hydroxynaphth-2'-yl)-2-oxobut-3-en...       GO  "
      ]
     },
     "execution_count": 22,
     "metadata": {},
     "output_type": "execute_result"
    }
   ],
   "source": [
    "mf = df_go_terms.query('go_term_type==\"molecular_function\"')\n",
    "df_mf_mf = pd.merge(df_go_edges, mf, 'inner', left_on='x', right_on='go_term_id')\n",
    "df_mf_mf = df_mf_mf.rename(columns={'go_term_id':'x_id','go_term_name':'x_name','go_term_type':'x_type'})\n",
    "df_mf_mf = pd.merge(df_mf_mf, mf, 'inner', left_on='y', right_on='go_term_id')\n",
    "df_mf_mf = df_mf_mf.rename(columns={'go_term_id':'y_id','go_term_name':'y_name','go_term_type':'y_type'})\n",
    "df_mf_mf['relation'] = 'molfunc_molfunc'\n",
    "df_mf_mf['display_relation'] = 'parent-child'\n",
    "df_mf_mf['x_source'] = 'GO'\n",
    "df_mf_mf['y_source'] = 'GO'\n",
    "df_mf_mf = clean_edges(df_mf_mf)\n",
    "df_mf_mf.head(1)"
   ]
  },
  {
   "cell_type": "code",
   "execution_count": null,
   "metadata": {
    "ExecuteTime": {
     "end_time": "2021-08-06T12:18:21.149592Z",
     "start_time": "2021-08-06T12:18:20.996132Z"
    },
    "hidden": true
   },
   "outputs": [
    {
     "data": {
      "text/html": [
       "<div>\n",
       "<style scoped>\n",
       "    .dataframe tbody tr th:only-of-type {\n",
       "        vertical-align: middle;\n",
       "    }\n",
       "\n",
       "    .dataframe tbody tr th {\n",
       "        vertical-align: top;\n",
       "    }\n",
       "\n",
       "    .dataframe thead th {\n",
       "        text-align: right;\n",
       "    }\n",
       "</style>\n",
       "<table border=\"1\" class=\"dataframe\">\n",
       "  <thead>\n",
       "    <tr style=\"text-align: right;\">\n",
       "      <th></th>\n",
       "      <th>relation</th>\n",
       "      <th>display_relation</th>\n",
       "      <th>x_id</th>\n",
       "      <th>x_type</th>\n",
       "      <th>x_name</th>\n",
       "      <th>x_source</th>\n",
       "      <th>y_id</th>\n",
       "      <th>y_type</th>\n",
       "      <th>y_name</th>\n",
       "      <th>y_source</th>\n",
       "    </tr>\n",
       "  </thead>\n",
       "  <tbody>\n",
       "    <tr>\n",
       "      <th>0</th>\n",
       "      <td>cellcomp_cellcomp</td>\n",
       "      <td>parent-child</td>\n",
       "      <td>32991</td>\n",
       "      <td>cellular_component</td>\n",
       "      <td>protein-containing complex</td>\n",
       "      <td>GO</td>\n",
       "      <td>150005</td>\n",
       "      <td>cellular_component</td>\n",
       "      <td>enzyme activator complex</td>\n",
       "      <td>GO</td>\n",
       "    </tr>\n",
       "  </tbody>\n",
       "</table>\n",
       "</div>"
      ],
      "text/plain": [
       "            relation display_relation   x_id              x_type  \\\n",
       "0  cellcomp_cellcomp     parent-child  32991  cellular_component   \n",
       "\n",
       "                       x_name x_source    y_id              y_type  \\\n",
       "0  protein-containing complex       GO  150005  cellular_component   \n",
       "\n",
       "                     y_name y_source  \n",
       "0  enzyme activator complex       GO  "
      ]
     },
     "execution_count": 23,
     "metadata": {},
     "output_type": "execute_result"
    }
   ],
   "source": [
    "cc = df_go_terms.query('go_term_type==\"cellular_component\"')\n",
    "df_cc_cc = pd.merge(df_go_edges, cc, 'inner', left_on='x', right_on='go_term_id')\n",
    "df_cc_cc = df_cc_cc.rename(columns={'go_term_id':'x_id','go_term_name':'x_name','go_term_type':'x_type'})\n",
    "df_cc_cc = pd.merge(df_cc_cc, cc, 'inner', left_on='y', right_on='go_term_id')\n",
    "df_cc_cc = df_cc_cc.rename(columns={'go_term_id':'y_id','go_term_name':'y_name','go_term_type':'y_type'})\n",
    "df_cc_cc['relation'] = 'cellcomp_cellcomp'\n",
    "df_cc_cc['display_relation'] = 'parent-child'\n",
    "df_cc_cc['x_source'] = 'GO'\n",
    "df_cc_cc['y_source'] = 'GO'\n",
    "df_cc_cc = clean_edges(df_cc_cc)\n",
    "df_cc_cc.head(1)\n"
   ]
  },
  {
   "cell_type": "markdown",
   "metadata": {
    "hidden": true
   },
   "source": [
    "### Go protein interactions (Gene2GO)"
   ]
  },
  {
   "cell_type": "code",
   "execution_count": null,
   "metadata": {
    "ExecuteTime": {
     "end_time": "2021-08-06T12:18:22.059413Z",
     "start_time": "2021-08-06T12:18:21.156638Z"
    },
    "hidden": true
   },
   "outputs": [],
   "source": [
    "df_prot_path = pd.merge(df_gene2go, df_go_terms, 'inner', 'go_term_id').rename(columns={'go_term_type_x':'go_term_type'})\n",
    "df_prot_path = pd.merge(df_prot_path, df_prot_names, 'left', left_on='ncbi_gene_id', right_on='ncbi_id')\n",
    "df_prot_path = df_prot_path.rename(columns={'ncbi_gene_id':'x_id', 'symbol':'x_name', \n",
    "                             'go_term_id':'y_id','go_term_name':'y_name', 'go_term_type':'y_type'})\n",
    "df_prot_path['x_type'] = 'gene/protein'\n",
    "df_prot_path['x_source'] = 'NCBI'\n",
    "df_prot_path['y_source'] = 'GO'\n",
    "df_prot_path = df_prot_path.get(['x_id','x_type', 'x_name', 'x_source','y_id','y_type', 'y_name', 'y_source'])"
   ]
  },
  {
   "cell_type": "code",
   "execution_count": null,
   "metadata": {
    "ExecuteTime": {
     "end_time": "2021-08-06T12:18:22.492514Z",
     "start_time": "2021-08-06T12:18:22.065000Z"
    },
    "hidden": true
   },
   "outputs": [
    {
     "data": {
      "text/html": [
       "<div>\n",
       "<style scoped>\n",
       "    .dataframe tbody tr th:only-of-type {\n",
       "        vertical-align: middle;\n",
       "    }\n",
       "\n",
       "    .dataframe tbody tr th {\n",
       "        vertical-align: top;\n",
       "    }\n",
       "\n",
       "    .dataframe thead th {\n",
       "        text-align: right;\n",
       "    }\n",
       "</style>\n",
       "<table border=\"1\" class=\"dataframe\">\n",
       "  <thead>\n",
       "    <tr style=\"text-align: right;\">\n",
       "      <th></th>\n",
       "      <th>relation</th>\n",
       "      <th>display_relation</th>\n",
       "      <th>x_id</th>\n",
       "      <th>x_type</th>\n",
       "      <th>x_name</th>\n",
       "      <th>x_source</th>\n",
       "      <th>y_id</th>\n",
       "      <th>y_type</th>\n",
       "      <th>y_name</th>\n",
       "      <th>y_source</th>\n",
       "    </tr>\n",
       "  </thead>\n",
       "  <tbody>\n",
       "    <tr>\n",
       "      <th>0</th>\n",
       "      <td>molfunc_protein</td>\n",
       "      <td>interacts with</td>\n",
       "      <td>2</td>\n",
       "      <td>gene/protein</td>\n",
       "      <td>A2M</td>\n",
       "      <td>NCBI</td>\n",
       "      <td>5102</td>\n",
       "      <td>molecular_function</td>\n",
       "      <td>signaling receptor binding</td>\n",
       "      <td>GO</td>\n",
       "    </tr>\n",
       "  </tbody>\n",
       "</table>\n",
       "</div>"
      ],
      "text/plain": [
       "          relation display_relation x_id        x_type x_name x_source  y_id  \\\n",
       "0  molfunc_protein   interacts with    2  gene/protein    A2M     NCBI  5102   \n",
       "\n",
       "               y_type                      y_name y_source  \n",
       "0  molecular_function  signaling receptor binding       GO  "
      ]
     },
     "execution_count": 25,
     "metadata": {},
     "output_type": "execute_result"
    }
   ],
   "source": [
    "df_prot_mf = df_prot_path.query('y_type==\"molecular_function\"').copy()\n",
    "df_prot_mf['relation'] = 'molfunc_protein'\n",
    "df_prot_mf['display_relation'] = 'interacts with'\n",
    "df_prot_mf = clean_edges(df_prot_mf)\n",
    "df_prot_mf.head(1)"
   ]
  },
  {
   "cell_type": "code",
   "execution_count": null,
   "metadata": {
    "ExecuteTime": {
     "end_time": "2021-08-06T12:18:22.897652Z",
     "start_time": "2021-08-06T12:18:22.499167Z"
    },
    "hidden": true
   },
   "outputs": [
    {
     "data": {
      "text/html": [
       "<div>\n",
       "<style scoped>\n",
       "    .dataframe tbody tr th:only-of-type {\n",
       "        vertical-align: middle;\n",
       "    }\n",
       "\n",
       "    .dataframe tbody tr th {\n",
       "        vertical-align: top;\n",
       "    }\n",
       "\n",
       "    .dataframe thead th {\n",
       "        text-align: right;\n",
       "    }\n",
       "</style>\n",
       "<table border=\"1\" class=\"dataframe\">\n",
       "  <thead>\n",
       "    <tr style=\"text-align: right;\">\n",
       "      <th></th>\n",
       "      <th>relation</th>\n",
       "      <th>display_relation</th>\n",
       "      <th>x_id</th>\n",
       "      <th>x_type</th>\n",
       "      <th>x_name</th>\n",
       "      <th>x_source</th>\n",
       "      <th>y_id</th>\n",
       "      <th>y_type</th>\n",
       "      <th>y_name</th>\n",
       "      <th>y_source</th>\n",
       "    </tr>\n",
       "  </thead>\n",
       "  <tbody>\n",
       "    <tr>\n",
       "      <th>208710</th>\n",
       "      <td>cellcomp_protein</td>\n",
       "      <td>interacts with</td>\n",
       "      <td>1</td>\n",
       "      <td>gene/protein</td>\n",
       "      <td>A1BG</td>\n",
       "      <td>NCBI</td>\n",
       "      <td>31093</td>\n",
       "      <td>cellular_component</td>\n",
       "      <td>platelet alpha granule lumen</td>\n",
       "      <td>GO</td>\n",
       "    </tr>\n",
       "  </tbody>\n",
       "</table>\n",
       "</div>"
      ],
      "text/plain": [
       "                relation display_relation x_id        x_type x_name x_source  \\\n",
       "208710  cellcomp_protein   interacts with    1  gene/protein   A1BG     NCBI   \n",
       "\n",
       "         y_id              y_type                        y_name y_source  \n",
       "208710  31093  cellular_component  platelet alpha granule lumen       GO  "
      ]
     },
     "execution_count": 26,
     "metadata": {},
     "output_type": "execute_result"
    }
   ],
   "source": [
    "df_prot_cc = df_prot_path.query('y_type==\"cellular_component\"').copy()\n",
    "df_prot_cc['relation'] = 'cellcomp_protein'\n",
    "df_prot_cc['display_relation'] = 'interacts with'\n",
    "df_prot_cc = clean_edges(df_prot_cc)\n",
    "df_prot_cc.head(1)"
   ]
  },
  {
   "cell_type": "code",
   "execution_count": null,
   "metadata": {
    "ExecuteTime": {
     "end_time": "2021-08-06T12:18:23.584170Z",
     "start_time": "2021-08-06T12:18:22.904825Z"
    },
    "hidden": true
   },
   "outputs": [
    {
     "data": {
      "text/html": [
       "<div>\n",
       "<style scoped>\n",
       "    .dataframe tbody tr th:only-of-type {\n",
       "        vertical-align: middle;\n",
       "    }\n",
       "\n",
       "    .dataframe tbody tr th {\n",
       "        vertical-align: top;\n",
       "    }\n",
       "\n",
       "    .dataframe thead th {\n",
       "        text-align: right;\n",
       "    }\n",
       "</style>\n",
       "<table border=\"1\" class=\"dataframe\">\n",
       "  <thead>\n",
       "    <tr style=\"text-align: right;\">\n",
       "      <th></th>\n",
       "      <th>relation</th>\n",
       "      <th>display_relation</th>\n",
       "      <th>x_id</th>\n",
       "      <th>x_type</th>\n",
       "      <th>x_name</th>\n",
       "      <th>x_source</th>\n",
       "      <th>y_id</th>\n",
       "      <th>y_type</th>\n",
       "      <th>y_name</th>\n",
       "      <th>y_source</th>\n",
       "    </tr>\n",
       "  </thead>\n",
       "  <tbody>\n",
       "    <tr>\n",
       "      <th>70343</th>\n",
       "      <td>bioprocess_protein</td>\n",
       "      <td>interacts with</td>\n",
       "      <td>2</td>\n",
       "      <td>gene/protein</td>\n",
       "      <td>A2M</td>\n",
       "      <td>NCBI</td>\n",
       "      <td>1553</td>\n",
       "      <td>biological_process</td>\n",
       "      <td>luteinization</td>\n",
       "      <td>GO</td>\n",
       "    </tr>\n",
       "  </tbody>\n",
       "</table>\n",
       "</div>"
      ],
      "text/plain": [
       "                 relation display_relation x_id        x_type x_name x_source  \\\n",
       "70343  bioprocess_protein   interacts with    2  gene/protein    A2M     NCBI   \n",
       "\n",
       "       y_id              y_type         y_name y_source  \n",
       "70343  1553  biological_process  luteinization       GO  "
      ]
     },
     "execution_count": 27,
     "metadata": {},
     "output_type": "execute_result"
    }
   ],
   "source": [
    "df_prot_bp = df_prot_path.query('y_type==\"biological_process\"').copy()\n",
    "df_prot_bp['relation'] = 'bioprocess_protein'\n",
    "df_prot_bp['display_relation'] = 'interacts with'\n",
    "df_prot_bp = clean_edges(df_prot_bp)\n",
    "df_prot_bp.head(1)"
   ]
  },
  {
   "cell_type": "markdown",
   "metadata": {
    "hidden": true
   },
   "source": [
    "## Exposure"
   ]
  },
  {
   "cell_type": "markdown",
   "metadata": {
    "hidden": true
   },
   "source": [
    "### Exposure protein interactions (CTD)"
   ]
  },
  {
   "cell_type": "code",
   "execution_count": null,
   "metadata": {
    "ExecuteTime": {
     "end_time": "2021-08-06T12:18:42.557753Z",
     "start_time": "2021-08-06T12:18:23.586715Z"
    },
    "hidden": true
   },
   "outputs": [
    {
     "data": {
      "text/html": [
       "<div>\n",
       "<style scoped>\n",
       "    .dataframe tbody tr th:only-of-type {\n",
       "        vertical-align: middle;\n",
       "    }\n",
       "\n",
       "    .dataframe tbody tr th {\n",
       "        vertical-align: top;\n",
       "    }\n",
       "\n",
       "    .dataframe thead th {\n",
       "        text-align: right;\n",
       "    }\n",
       "</style>\n",
       "<table border=\"1\" class=\"dataframe\">\n",
       "  <thead>\n",
       "    <tr style=\"text-align: right;\">\n",
       "      <th></th>\n",
       "      <th>relation</th>\n",
       "      <th>display_relation</th>\n",
       "      <th>x_id</th>\n",
       "      <th>x_type</th>\n",
       "      <th>x_name</th>\n",
       "      <th>x_source</th>\n",
       "      <th>y_id</th>\n",
       "      <th>y_type</th>\n",
       "      <th>y_name</th>\n",
       "      <th>y_source</th>\n",
       "    </tr>\n",
       "  </thead>\n",
       "  <tbody>\n",
       "    <tr>\n",
       "      <th>0</th>\n",
       "      <td>exposure_protein</td>\n",
       "      <td>interacts with</td>\n",
       "      <td>C092102</td>\n",
       "      <td>exposure</td>\n",
       "      <td>1-hydroxyphenanthrene</td>\n",
       "      <td>CTD</td>\n",
       "      <td>1401</td>\n",
       "      <td>gene/protein</td>\n",
       "      <td>CRP</td>\n",
       "      <td>NCBI</td>\n",
       "    </tr>\n",
       "  </tbody>\n",
       "</table>\n",
       "</div>"
      ],
      "text/plain": [
       "           relation display_relation     x_id    x_type  \\\n",
       "0  exposure_protein   interacts with  C092102  exposure   \n",
       "\n",
       "                  x_name x_source  y_id        y_type y_name y_source  \n",
       "0  1-hydroxyphenanthrene      CTD  1401  gene/protein    CRP     NCBI  "
      ]
     },
     "execution_count": 28,
     "metadata": {},
     "output_type": "execute_result"
    }
   ],
   "source": [
    "df_exp_prot = df_exposures.get(['exposurestressorname', 'exposurestressorid','exposuremarker', 'exposuremarkerid'])\n",
    "df_exp_prot = df_exp_prot.loc[df_exp_prot.get(['exposuremarkerid']).dropna().index, :]\n",
    "\n",
    "gene_row_index = []\n",
    "for idx, data in df_exp_prot.iterrows():\n",
    "    if data.exposuremarkerid.isnumeric(): \n",
    "        gene_row_index.append(idx)\n",
    "\n",
    "df_exp_prot = df_exp_prot.loc[gene_row_index, :].astype({'exposuremarkerid': 'int'}).astype({'exposuremarkerid': 'str'})\n",
    "df_exp_prot = pd.merge(df_exp_prot, df_prot_names, 'left', left_on='exposuremarkerid', right_on='ncbi_id')\n",
    "\n",
    "df_exp_prot = df_exp_prot.rename(columns={'exposurestressorid':'x_id', 'exposurestressorname':'x_name', 'ncbi_id':'y_id', 'symbol':'y_name'})\n",
    "df_exp_prot['x_type'] = 'exposure'\n",
    "df_exp_prot['x_source'] = 'CTD'\n",
    "df_exp_prot['y_type'] = 'gene/protein'\n",
    "df_exp_prot['y_source'] = 'NCBI'\n",
    "df_exp_prot['relation'] = 'exposure_protein'\n",
    "df_exp_prot['display_relation'] = 'interacts with'\n",
    "df_exp_prot = clean_edges(df_exp_prot)\n",
    "df_exp_prot.head(1)"
   ]
  },
  {
   "cell_type": "markdown",
   "metadata": {
    "hidden": true
   },
   "source": [
    "### Exposure disease interactions (CTD)"
   ]
  },
  {
   "cell_type": "code",
   "execution_count": null,
   "metadata": {
    "ExecuteTime": {
     "end_time": "2021-08-06T12:18:43.131769Z",
     "start_time": "2021-08-06T12:18:42.744281Z"
    },
    "hidden": true
   },
   "outputs": [
    {
     "data": {
      "text/html": [
       "<div>\n",
       "<style scoped>\n",
       "    .dataframe tbody tr th:only-of-type {\n",
       "        vertical-align: middle;\n",
       "    }\n",
       "\n",
       "    .dataframe tbody tr th {\n",
       "        vertical-align: top;\n",
       "    }\n",
       "\n",
       "    .dataframe thead th {\n",
       "        text-align: right;\n",
       "    }\n",
       "</style>\n",
       "<table border=\"1\" class=\"dataframe\">\n",
       "  <thead>\n",
       "    <tr style=\"text-align: right;\">\n",
       "      <th></th>\n",
       "      <th>relation</th>\n",
       "      <th>display_relation</th>\n",
       "      <th>x_id</th>\n",
       "      <th>x_type</th>\n",
       "      <th>x_name</th>\n",
       "      <th>x_source</th>\n",
       "      <th>y_id</th>\n",
       "      <th>y_type</th>\n",
       "      <th>y_name</th>\n",
       "      <th>y_source</th>\n",
       "    </tr>\n",
       "  </thead>\n",
       "  <tbody>\n",
       "    <tr>\n",
       "      <th>0</th>\n",
       "      <td>exposure_disease</td>\n",
       "      <td>linked to</td>\n",
       "      <td>C024566</td>\n",
       "      <td>exposure</td>\n",
       "      <td>1,1,1-trichloroethane</td>\n",
       "      <td>CTD</td>\n",
       "      <td>4976</td>\n",
       "      <td>disease</td>\n",
       "      <td>amyotrophic lateral sclerosis</td>\n",
       "      <td>MONDO</td>\n",
       "    </tr>\n",
       "  </tbody>\n",
       "</table>\n",
       "</div>"
      ],
      "text/plain": [
       "           relation display_relation     x_id    x_type  \\\n",
       "0  exposure_disease        linked to  C024566  exposure   \n",
       "\n",
       "                  x_name x_source  y_id   y_type  \\\n",
       "0  1,1,1-trichloroethane      CTD  4976  disease   \n",
       "\n",
       "                          y_name y_source  \n",
       "0  amyotrophic lateral sclerosis    MONDO  "
      ]
     },
     "execution_count": 29,
     "metadata": {},
     "output_type": "execute_result"
    }
   ],
   "source": [
    "df_exp_dis = df_exposures.get(['exposurestressorname', 'exposurestressorid','diseasename', 'diseaseid'])\n",
    "df_exp_dis = df_exp_dis.loc[df_exp_dis.get(['diseaseid']).dropna().index, :]\n",
    "df_exp_dis = pd.merge(df_exp_dis, df_mondo_xref.query('ontology==\"MESH\"'), 'left', left_on='diseaseid', right_on='ontology_id')\n",
    "df_exp_dis = pd.merge(df_exp_dis, df_mondo_terms, 'left', left_on='mondo_id', right_on= 'id')\n",
    "\n",
    "df_exp_dis = df_exp_dis.rename(columns={'exposurestressorid':'x_id', 'exposurestressorname':'x_name', 'mondo_id':'y_id', 'name':'y_name'})\n",
    "df_exp_dis['x_type'] = 'exposure'\n",
    "df_exp_dis['x_source'] = 'CTD'\n",
    "df_exp_dis['y_type'] = 'disease'\n",
    "df_exp_dis['y_source'] = 'MONDO'\n",
    "df_exp_dis['relation'] = 'exposure_disease'\n",
    "df_exp_dis['display_relation'] = 'linked to'\n",
    "df_exp_dis = clean_edges(df_exp_dis)\n",
    "df_exp_dis.head(1)"
   ]
  },
  {
   "cell_type": "markdown",
   "metadata": {
    "hidden": true
   },
   "source": [
    "### Exposure exposure interactions (CTD)"
   ]
  },
  {
   "cell_type": "code",
   "execution_count": null,
   "metadata": {
    "ExecuteTime": {
     "end_time": "2021-08-06T12:18:43.918651Z",
     "start_time": "2021-08-06T12:18:43.138177Z"
    },
    "hidden": true
   },
   "outputs": [],
   "source": [
    "exposures = np.unique(df_exposures.get('exposurestressorid').values)\n",
    "df_exp_exp = df_exposures.query('exposuremarkerid in @exposures')\n",
    "\n",
    "df_exp_exp = df_exp_exp.get(['exposurestressorname', 'exposurestressorid','exposuremarker', 'exposuremarkerid'])\n",
    "df_exp_exp = df_exp_exp.loc[df_exp_exp.get(['exposuremarkerid']).dropna().index, :]\n",
    "df_exp_exp = df_exp_exp.drop_duplicates()\n",
    "\n",
    "df_exp_exp = df_exp_exp.rename(columns={'exposurestressorid':'x_id', 'exposurestressorname':'x_name', 'exposuremarker':'y_name', 'exposuremarkerid':'y_id'})\n",
    "df_exp_exp['x_type'] = 'exposure'\n",
    "df_exp_exp['x_source'] = 'CTD'\n",
    "df_exp_exp['y_type'] = 'exposure'\n",
    "df_exp_exp['y_source'] = 'CTD'\n",
    "df_exp_exp['relation'] = 'exposure_exposure'\n",
    "df_exp_exp['display_relation'] = 'parent-child'\n",
    "df_exp_exp = clean_edges(df_exp_exp)"
   ]
  },
  {
   "cell_type": "markdown",
   "metadata": {
    "hidden": true
   },
   "source": [
    "### Exposure pathway interactions (CTD)"
   ]
  },
  {
   "cell_type": "code",
   "execution_count": null,
   "metadata": {
    "ExecuteTime": {
     "end_time": "2021-08-06T12:18:44.045651Z",
     "start_time": "2021-08-06T12:18:43.924387Z"
    },
    "hidden": true
   },
   "outputs": [],
   "source": [
    "# phenotypes are actually pathways \n",
    "\n",
    "df_exp_path = df_exposures.get(['exposurestressorname', 'exposurestressorid','phenotypename', 'phenotypeid'])\n",
    "df_exp_path = df_exp_path.loc[df_exp_path.get(['phenotypeid']).dropna().index, :]\n",
    "df_exp_path.loc[:, 'phenotypeid'] = [str(int(x.split(':')[1])) for x in df_exp_path.get(['phenotypeid']).values.reshape(-1)]\n",
    "df_exp_path = df_exp_path.drop_duplicates()\n",
    "df_exp_path = pd.merge(df_exp_path, df_go_terms, 'inner', left_on='phenotypeid', right_on='go_term_id')\n",
    "df_exp_path = df_exp_path.rename(columns={'exposurestressorid':'x_id', 'exposurestressorname':'x_name', \n",
    "                                          'go_term_id':'y_id', 'go_term_name':'y_name', 'go_term_type':'y_type'})\n",
    "df_exp_path['x_type'] = 'exposure'\n",
    "df_exp_path['x_source'] = 'CTD'\n",
    "df_exp_path['y_source'] = 'GO'"
   ]
  },
  {
   "cell_type": "code",
   "execution_count": null,
   "metadata": {
    "ExecuteTime": {
     "end_time": "2021-08-06T12:18:44.139834Z",
     "start_time": "2021-08-06T12:18:44.048929Z"
    },
    "hidden": true
   },
   "outputs": [
    {
     "data": {
      "text/html": [
       "<div>\n",
       "<style scoped>\n",
       "    .dataframe tbody tr th:only-of-type {\n",
       "        vertical-align: middle;\n",
       "    }\n",
       "\n",
       "    .dataframe tbody tr th {\n",
       "        vertical-align: top;\n",
       "    }\n",
       "\n",
       "    .dataframe thead th {\n",
       "        text-align: right;\n",
       "    }\n",
       "</style>\n",
       "<table border=\"1\" class=\"dataframe\">\n",
       "  <thead>\n",
       "    <tr style=\"text-align: right;\">\n",
       "      <th></th>\n",
       "      <th>relation</th>\n",
       "      <th>display_relation</th>\n",
       "      <th>x_id</th>\n",
       "      <th>x_type</th>\n",
       "      <th>x_name</th>\n",
       "      <th>x_source</th>\n",
       "      <th>y_id</th>\n",
       "      <th>y_type</th>\n",
       "      <th>y_name</th>\n",
       "      <th>y_source</th>\n",
       "    </tr>\n",
       "  </thead>\n",
       "  <tbody>\n",
       "    <tr>\n",
       "      <th>0</th>\n",
       "      <td>exposure_bioprocess</td>\n",
       "      <td>interacts with</td>\n",
       "      <td>C046839</td>\n",
       "      <td>exposure</td>\n",
       "      <td>1,2,3,4,6,7,8-heptachlorodibenzodioxin</td>\n",
       "      <td>CTD</td>\n",
       "      <td>8217</td>\n",
       "      <td>biological_process</td>\n",
       "      <td>regulation of blood pressure</td>\n",
       "      <td>GO</td>\n",
       "    </tr>\n",
       "  </tbody>\n",
       "</table>\n",
       "</div>"
      ],
      "text/plain": [
       "              relation display_relation     x_id    x_type  \\\n",
       "0  exposure_bioprocess   interacts with  C046839  exposure   \n",
       "\n",
       "                                   x_name x_source  y_id              y_type  \\\n",
       "0  1,2,3,4,6,7,8-heptachlorodibenzodioxin      CTD  8217  biological_process   \n",
       "\n",
       "                         y_name y_source  \n",
       "0  regulation of blood pressure       GO  "
      ]
     },
     "execution_count": 32,
     "metadata": {},
     "output_type": "execute_result"
    }
   ],
   "source": [
    "df_exp_bp = df_exp_path.query('y_type==\"biological_process\"').copy()\n",
    "df_exp_bp['relation'] = 'exposure_bioprocess'\n",
    "df_exp_bp['display_relation'] = 'interacts with'\n",
    "df_exp_bp = clean_edges(df_exp_bp)\n",
    "df_exp_bp.head(1)"
   ]
  },
  {
   "cell_type": "code",
   "execution_count": null,
   "metadata": {
    "ExecuteTime": {
     "end_time": "2021-08-06T12:18:44.221350Z",
     "start_time": "2021-08-06T12:18:44.143253Z"
    },
    "hidden": true
   },
   "outputs": [
    {
     "data": {
      "text/html": [
       "<div>\n",
       "<style scoped>\n",
       "    .dataframe tbody tr th:only-of-type {\n",
       "        vertical-align: middle;\n",
       "    }\n",
       "\n",
       "    .dataframe tbody tr th {\n",
       "        vertical-align: top;\n",
       "    }\n",
       "\n",
       "    .dataframe thead th {\n",
       "        text-align: right;\n",
       "    }\n",
       "</style>\n",
       "<table border=\"1\" class=\"dataframe\">\n",
       "  <thead>\n",
       "    <tr style=\"text-align: right;\">\n",
       "      <th></th>\n",
       "      <th>relation</th>\n",
       "      <th>display_relation</th>\n",
       "      <th>x_id</th>\n",
       "      <th>x_type</th>\n",
       "      <th>x_name</th>\n",
       "      <th>x_source</th>\n",
       "      <th>y_id</th>\n",
       "      <th>y_type</th>\n",
       "      <th>y_name</th>\n",
       "      <th>y_source</th>\n",
       "    </tr>\n",
       "  </thead>\n",
       "  <tbody>\n",
       "    <tr>\n",
       "      <th>639</th>\n",
       "      <td>exposure_molfunc</td>\n",
       "      <td>interacts with</td>\n",
       "      <td>C014024</td>\n",
       "      <td>exposure</td>\n",
       "      <td>2,4,5,2',4',5'-hexachlorobiphenyl</td>\n",
       "      <td>CTD</td>\n",
       "      <td>19766</td>\n",
       "      <td>molecular_function</td>\n",
       "      <td>IgA receptor activity</td>\n",
       "      <td>GO</td>\n",
       "    </tr>\n",
       "  </tbody>\n",
       "</table>\n",
       "</div>"
      ],
      "text/plain": [
       "             relation display_relation     x_id    x_type  \\\n",
       "639  exposure_molfunc   interacts with  C014024  exposure   \n",
       "\n",
       "                                x_name x_source   y_id              y_type  \\\n",
       "639  2,4,5,2',4',5'-hexachlorobiphenyl      CTD  19766  molecular_function   \n",
       "\n",
       "                    y_name y_source  \n",
       "639  IgA receptor activity       GO  "
      ]
     },
     "execution_count": 33,
     "metadata": {},
     "output_type": "execute_result"
    }
   ],
   "source": [
    "df_exp_mf = df_exp_path.query('y_type==\"molecular_function\"').copy()\n",
    "df_exp_mf['relation'] = 'exposure_molfunc'\n",
    "df_exp_mf['display_relation'] = 'interacts with'\n",
    "df_exp_mf = clean_edges(df_exp_mf)\n",
    "df_exp_mf.head(1)"
   ]
  },
  {
   "cell_type": "code",
   "execution_count": null,
   "metadata": {
    "ExecuteTime": {
     "end_time": "2021-08-06T12:18:44.291345Z",
     "start_time": "2021-08-06T12:18:44.223480Z"
    },
    "hidden": true
   },
   "outputs": [
    {
     "data": {
      "text/html": [
       "<div>\n",
       "<style scoped>\n",
       "    .dataframe tbody tr th:only-of-type {\n",
       "        vertical-align: middle;\n",
       "    }\n",
       "\n",
       "    .dataframe tbody tr th {\n",
       "        vertical-align: top;\n",
       "    }\n",
       "\n",
       "    .dataframe thead th {\n",
       "        text-align: right;\n",
       "    }\n",
       "</style>\n",
       "<table border=\"1\" class=\"dataframe\">\n",
       "  <thead>\n",
       "    <tr style=\"text-align: right;\">\n",
       "      <th></th>\n",
       "      <th>relation</th>\n",
       "      <th>display_relation</th>\n",
       "      <th>x_id</th>\n",
       "      <th>x_type</th>\n",
       "      <th>x_name</th>\n",
       "      <th>x_source</th>\n",
       "      <th>y_id</th>\n",
       "      <th>y_type</th>\n",
       "      <th>y_name</th>\n",
       "      <th>y_source</th>\n",
       "    </tr>\n",
       "  </thead>\n",
       "  <tbody>\n",
       "    <tr>\n",
       "      <th>1069</th>\n",
       "      <td>exposure_cellcomp</td>\n",
       "      <td>interacts with</td>\n",
       "      <td>D000393</td>\n",
       "      <td>exposure</td>\n",
       "      <td>Air Pollutants</td>\n",
       "      <td>CTD</td>\n",
       "      <td>71743</td>\n",
       "      <td>cellular_component</td>\n",
       "      <td>IgE immunoglobulin complex, circulating</td>\n",
       "      <td>GO</td>\n",
       "    </tr>\n",
       "  </tbody>\n",
       "</table>\n",
       "</div>"
      ],
      "text/plain": [
       "               relation display_relation     x_id    x_type          x_name  \\\n",
       "1069  exposure_cellcomp   interacts with  D000393  exposure  Air Pollutants   \n",
       "\n",
       "     x_source   y_id              y_type  \\\n",
       "1069      CTD  71743  cellular_component   \n",
       "\n",
       "                                       y_name y_source  \n",
       "1069  IgE immunoglobulin complex, circulating       GO  "
      ]
     },
     "execution_count": 34,
     "metadata": {},
     "output_type": "execute_result"
    }
   ],
   "source": [
    "df_exp_cc = df_exp_path.query('y_type==\"cellular_component\"').copy()\n",
    "df_exp_cc['relation'] = 'exposure_cellcomp'\n",
    "df_exp_cc['display_relation'] = 'interacts with'\n",
    "df_exp_cc = clean_edges(df_exp_cc)\n",
    "df_exp_cc.head(1)"
   ]
  },
  {
   "cell_type": "markdown",
   "metadata": {
    "hidden": true
   },
   "source": [
    "## Anatomy"
   ]
  },
  {
   "cell_type": "markdown",
   "metadata": {
    "hidden": true
   },
   "source": [
    "### Anatomy anatomy interactions (UBERON) "
   ]
  },
  {
   "cell_type": "code",
   "execution_count": null,
   "metadata": {
    "ExecuteTime": {
     "end_time": "2021-08-06T12:18:44.470250Z",
     "start_time": "2021-08-06T12:18:44.294967Z"
    },
    "hidden": true
   },
   "outputs": [
    {
     "data": {
      "text/html": [
       "<div>\n",
       "<style scoped>\n",
       "    .dataframe tbody tr th:only-of-type {\n",
       "        vertical-align: middle;\n",
       "    }\n",
       "\n",
       "    .dataframe tbody tr th {\n",
       "        vertical-align: top;\n",
       "    }\n",
       "\n",
       "    .dataframe thead th {\n",
       "        text-align: right;\n",
       "    }\n",
       "</style>\n",
       "<table border=\"1\" class=\"dataframe\">\n",
       "  <thead>\n",
       "    <tr style=\"text-align: right;\">\n",
       "      <th></th>\n",
       "      <th>relation</th>\n",
       "      <th>display_relation</th>\n",
       "      <th>x_id</th>\n",
       "      <th>x_type</th>\n",
       "      <th>x_name</th>\n",
       "      <th>x_source</th>\n",
       "      <th>y_id</th>\n",
       "      <th>y_type</th>\n",
       "      <th>y_name</th>\n",
       "      <th>y_source</th>\n",
       "    </tr>\n",
       "  </thead>\n",
       "  <tbody>\n",
       "    <tr>\n",
       "      <th>0</th>\n",
       "      <td>anatomy_anatomy</td>\n",
       "      <td>parent-child</td>\n",
       "      <td>2</td>\n",
       "      <td>anatomy</td>\n",
       "      <td>uterine cervix</td>\n",
       "      <td>UBERON</td>\n",
       "      <td>5156</td>\n",
       "      <td>anatomy</td>\n",
       "      <td>reproductive structure</td>\n",
       "      <td>UBERON</td>\n",
       "    </tr>\n",
       "  </tbody>\n",
       "</table>\n",
       "</div>"
      ],
      "text/plain": [
       "          relation display_relation x_id   x_type          x_name x_source  \\\n",
       "0  anatomy_anatomy     parent-child    2  anatomy  uterine cervix   UBERON   \n",
       "\n",
       "   y_id   y_type                  y_name y_source  \n",
       "0  5156  anatomy  reproductive structure   UBERON  "
      ]
     },
     "execution_count": 35,
     "metadata": {},
     "output_type": "execute_result"
    }
   ],
   "source": [
    "df_ana_ana = pd.merge(df_uberon_is_a, df_uberon_terms, 'left', left_on='id', right_on='id')\n",
    "df_ana_ana = df_ana_ana.rename(columns={'id':'x_id', 'name':'x_name'})\n",
    "df_ana_ana = pd.merge(df_ana_ana, df_uberon_terms, 'left', left_on='is_a', right_on='id')\n",
    "df_ana_ana = df_ana_ana.rename(columns={'id':'y_id', 'name':'y_name'})\n",
    "df_ana_ana['x_type'] = 'anatomy'\n",
    "df_ana_ana['x_source'] = 'UBERON'\n",
    "df_ana_ana['y_type'] = 'anatomy'\n",
    "df_ana_ana['y_source'] = 'UBERON'\n",
    "df_ana_ana['relation'] = 'anatomy_anatomy'\n",
    "df_ana_ana['display_relation'] = 'parent-child'\n",
    "df_ana_ana = clean_edges(df_ana_ana)\n",
    "df_ana_ana.head(1)"
   ]
  },
  {
   "cell_type": "markdown",
   "metadata": {
    "hidden": true
   },
   "source": [
    "### Anatomy Protein (BGEE)"
   ]
  },
  {
   "cell_type": "code",
   "execution_count": null,
   "metadata": {
    "ExecuteTime": {
     "end_time": "2021-08-06T12:18:46.577643Z",
     "start_time": "2021-08-06T12:18:44.475187Z"
    },
    "hidden": true
   },
   "outputs": [],
   "source": [
    "df_bgee = pd.merge(df_bgee, df_prot_names, 'inner', left_on='gene_name', right_on='symbol')\n",
    "df_bgee = df_bgee.rename(columns={'ncbi_id':'x_id', 'symbol':'x_name', \n",
    "                                  'anatomy_id':'y_id', 'anatomy_name':'y_name'})\n",
    "df_bgee['x_source'] = 'NCBI'\n",
    "df_bgee['x_type'] = 'gene/protein'\n",
    "df_bgee['y_source'] = 'UBERON'\n",
    "df_bgee['y_type'] = 'anatomy'"
   ]
  },
  {
   "cell_type": "code",
   "execution_count": null,
   "metadata": {
    "ExecuteTime": {
     "end_time": "2021-08-06T12:18:50.843665Z",
     "start_time": "2021-08-06T12:18:46.579406Z"
    },
    "hidden": true
   },
   "outputs": [
    {
     "data": {
      "text/html": [
       "<div>\n",
       "<style scoped>\n",
       "    .dataframe tbody tr th:only-of-type {\n",
       "        vertical-align: middle;\n",
       "    }\n",
       "\n",
       "    .dataframe tbody tr th {\n",
       "        vertical-align: top;\n",
       "    }\n",
       "\n",
       "    .dataframe thead th {\n",
       "        text-align: right;\n",
       "    }\n",
       "</style>\n",
       "<table border=\"1\" class=\"dataframe\">\n",
       "  <thead>\n",
       "    <tr style=\"text-align: right;\">\n",
       "      <th></th>\n",
       "      <th>relation</th>\n",
       "      <th>display_relation</th>\n",
       "      <th>x_id</th>\n",
       "      <th>x_type</th>\n",
       "      <th>x_name</th>\n",
       "      <th>x_source</th>\n",
       "      <th>y_id</th>\n",
       "      <th>y_type</th>\n",
       "      <th>y_name</th>\n",
       "      <th>y_source</th>\n",
       "    </tr>\n",
       "  </thead>\n",
       "  <tbody>\n",
       "    <tr>\n",
       "      <th>0</th>\n",
       "      <td>anatomy_protein_present</td>\n",
       "      <td>expression present</td>\n",
       "      <td>7105</td>\n",
       "      <td>gene/protein</td>\n",
       "      <td>TSPAN6</td>\n",
       "      <td>NCBI</td>\n",
       "      <td>2</td>\n",
       "      <td>anatomy</td>\n",
       "      <td>uterine cervix</td>\n",
       "      <td>UBERON</td>\n",
       "    </tr>\n",
       "  </tbody>\n",
       "</table>\n",
       "</div>"
      ],
      "text/plain": [
       "                  relation    display_relation  x_id        x_type  x_name  \\\n",
       "0  anatomy_protein_present  expression present  7105  gene/protein  TSPAN6   \n",
       "\n",
       "  x_source y_id   y_type          y_name y_source  \n",
       "0     NCBI    2  anatomy  uterine cervix   UBERON  "
      ]
     },
     "execution_count": 37,
     "metadata": {},
     "output_type": "execute_result"
    }
   ],
   "source": [
    "df_ana_prot_pos = df_bgee.query('expression==\"present\"').copy()\n",
    "df_ana_prot_pos['relation'] = 'anatomy_protein_present'\n",
    "df_ana_prot_pos['display_relation'] = 'expression present'\n",
    "df_ana_prot_pos = clean_edges(df_ana_prot_pos)\n",
    "df_ana_prot_pos.head(1)"
   ]
  },
  {
   "cell_type": "code",
   "execution_count": null,
   "metadata": {
    "ExecuteTime": {
     "end_time": "2021-08-06T12:18:51.146611Z",
     "start_time": "2021-08-06T12:18:50.858329Z"
    },
    "hidden": true
   },
   "outputs": [
    {
     "data": {
      "text/html": [
       "<div>\n",
       "<style scoped>\n",
       "    .dataframe tbody tr th:only-of-type {\n",
       "        vertical-align: middle;\n",
       "    }\n",
       "\n",
       "    .dataframe tbody tr th {\n",
       "        vertical-align: top;\n",
       "    }\n",
       "\n",
       "    .dataframe thead th {\n",
       "        text-align: right;\n",
       "    }\n",
       "</style>\n",
       "<table border=\"1\" class=\"dataframe\">\n",
       "  <thead>\n",
       "    <tr style=\"text-align: right;\">\n",
       "      <th></th>\n",
       "      <th>relation</th>\n",
       "      <th>display_relation</th>\n",
       "      <th>x_id</th>\n",
       "      <th>x_type</th>\n",
       "      <th>x_name</th>\n",
       "      <th>x_source</th>\n",
       "      <th>y_id</th>\n",
       "      <th>y_type</th>\n",
       "      <th>y_name</th>\n",
       "      <th>y_source</th>\n",
       "    </tr>\n",
       "  </thead>\n",
       "  <tbody>\n",
       "    <tr>\n",
       "      <th>83</th>\n",
       "      <td>anatomy_protein_absent</td>\n",
       "      <td>expression absent</td>\n",
       "      <td>7105</td>\n",
       "      <td>gene/protein</td>\n",
       "      <td>TSPAN6</td>\n",
       "      <td>NCBI</td>\n",
       "      <td>1509</td>\n",
       "      <td>anatomy</td>\n",
       "      <td>triceps brachii</td>\n",
       "      <td>UBERON</td>\n",
       "    </tr>\n",
       "  </tbody>\n",
       "</table>\n",
       "</div>"
      ],
      "text/plain": [
       "                  relation   display_relation  x_id        x_type  x_name  \\\n",
       "83  anatomy_protein_absent  expression absent  7105  gene/protein  TSPAN6   \n",
       "\n",
       "   x_source  y_id   y_type           y_name y_source  \n",
       "83     NCBI  1509  anatomy  triceps brachii   UBERON  "
      ]
     },
     "execution_count": 38,
     "metadata": {},
     "output_type": "execute_result"
    }
   ],
   "source": [
    "df_ana_prot_neg = df_bgee.query('expression==\"absent\"').copy()\n",
    "df_ana_prot_neg['relation'] = 'anatomy_protein_absent'\n",
    "df_ana_prot_neg['display_relation'] = 'expression absent'\n",
    "df_ana_prot_neg = clean_edges(df_ana_prot_neg)\n",
    "df_ana_prot_neg.head(1)"
   ]
  },
  {
   "cell_type": "markdown",
   "metadata": {
    "hidden": true
   },
   "source": [
    "## Pathways"
   ]
  },
  {
   "cell_type": "code",
   "execution_count": 6,
   "metadata": {
    "ExecuteTime": {
     "end_time": "2021-08-06T12:18:51.324577Z",
     "start_time": "2021-08-06T12:18:51.152492Z"
    },
    "hidden": true
   },
   "outputs": [
    {
     "data": {
      "text/html": [
       "<div>\n",
       "<style scoped>\n",
       "    .dataframe tbody tr th:only-of-type {\n",
       "        vertical-align: middle;\n",
       "    }\n",
       "\n",
       "    .dataframe tbody tr th {\n",
       "        vertical-align: top;\n",
       "    }\n",
       "\n",
       "    .dataframe thead th {\n",
       "        text-align: right;\n",
       "    }\n",
       "</style>\n",
       "<table border=\"1\" class=\"dataframe\">\n",
       "  <thead>\n",
       "    <tr style=\"text-align: right;\">\n",
       "      <th></th>\n",
       "      <th>relation</th>\n",
       "      <th>display_relation</th>\n",
       "      <th>x_id</th>\n",
       "      <th>x_type</th>\n",
       "      <th>x_name</th>\n",
       "      <th>x_source</th>\n",
       "      <th>y_id</th>\n",
       "      <th>y_type</th>\n",
       "      <th>y_name</th>\n",
       "      <th>y_source</th>\n",
       "    </tr>\n",
       "  </thead>\n",
       "  <tbody>\n",
       "    <tr>\n",
       "      <th>0</th>\n",
       "      <td>pathway_pathway</td>\n",
       "      <td>parent-child</td>\n",
       "      <td>R-HSA-109581</td>\n",
       "      <td>pathway</td>\n",
       "      <td>Apoptosis</td>\n",
       "      <td>REACTOME</td>\n",
       "      <td>R-HSA-109606</td>\n",
       "      <td>pathway</td>\n",
       "      <td>Intrinsic Pathway for Apoptosis</td>\n",
       "      <td>REACTOME</td>\n",
       "    </tr>\n",
       "  </tbody>\n",
       "</table>\n",
       "</div>"
      ],
      "text/plain": [
       "          relation display_relation          x_id   x_type     x_name  \\\n",
       "0  pathway_pathway     parent-child  R-HSA-109581  pathway  Apoptosis   \n",
       "\n",
       "   x_source          y_id   y_type                           y_name  y_source  \n",
       "0  REACTOME  R-HSA-109606  pathway  Intrinsic Pathway for Apoptosis  REACTOME  "
      ]
     },
     "execution_count": 6,
     "metadata": {},
     "output_type": "execute_result"
    }
   ],
   "source": [
    "df_path_path = pd.merge(df_reactome_rels, df_reactome_terms, 'inner', left_on='reactome_id_1', right_on='reactome_id')\n",
    "df_path_path = df_path_path.rename(columns={'reactome_id': 'x_id', 'reactome_name':'x_name'})\n",
    "df_path_path = pd.merge(df_path_path, df_reactome_terms, 'inner', left_on='reactome_id_2', right_on='reactome_id')\n",
    "df_path_path = df_path_path.rename(columns={'reactome_id': 'y_id', 'reactome_name':'y_name'})\n",
    "\n",
    "df_path_path['x_source'] = 'REACTOME'\n",
    "df_path_path['x_type'] = 'pathway'\n",
    "df_path_path['y_source'] = 'REACTOME'\n",
    "df_path_path['y_type'] = 'pathway'\n",
    "df_path_path['relation'] = 'pathway_pathway'\n",
    "df_path_path['display_relation'] = 'parent-child'\n",
    "df_path_path = clean_edges(df_path_path)\n",
    "df_path_path.head(1)"
   ]
  },
  {
   "cell_type": "markdown",
   "metadata": {
    "hidden": true
   },
   "source": [
    "### Pathway protein interactions"
   ]
  },
  {
   "cell_type": "code",
   "execution_count": null,
   "metadata": {
    "ExecuteTime": {
     "end_time": "2021-08-06T12:18:51.616244Z",
     "start_time": "2021-08-06T12:18:51.328730Z"
    },
    "hidden": true
   },
   "outputs": [
    {
     "data": {
      "text/html": [
       "<div>\n",
       "<style scoped>\n",
       "    .dataframe tbody tr th:only-of-type {\n",
       "        vertical-align: middle;\n",
       "    }\n",
       "\n",
       "    .dataframe tbody tr th {\n",
       "        vertical-align: top;\n",
       "    }\n",
       "\n",
       "    .dataframe thead th {\n",
       "        text-align: right;\n",
       "    }\n",
       "</style>\n",
       "<table border=\"1\" class=\"dataframe\">\n",
       "  <thead>\n",
       "    <tr style=\"text-align: right;\">\n",
       "      <th></th>\n",
       "      <th>relation</th>\n",
       "      <th>display_relation</th>\n",
       "      <th>x_id</th>\n",
       "      <th>x_type</th>\n",
       "      <th>x_name</th>\n",
       "      <th>x_source</th>\n",
       "      <th>y_id</th>\n",
       "      <th>y_type</th>\n",
       "      <th>y_name</th>\n",
       "      <th>y_source</th>\n",
       "    </tr>\n",
       "  </thead>\n",
       "  <tbody>\n",
       "    <tr>\n",
       "      <th>0</th>\n",
       "      <td>pathway_protein</td>\n",
       "      <td>interacts with</td>\n",
       "      <td>1</td>\n",
       "      <td>gene/protein</td>\n",
       "      <td>A1BG</td>\n",
       "      <td>NCBI</td>\n",
       "      <td>R-HSA-114608</td>\n",
       "      <td>pathway</td>\n",
       "      <td>Platelet degranulation</td>\n",
       "      <td>REACTOME</td>\n",
       "    </tr>\n",
       "  </tbody>\n",
       "</table>\n",
       "</div>"
      ],
      "text/plain": [
       "          relation display_relation x_id        x_type x_name x_source  \\\n",
       "0  pathway_protein   interacts with    1  gene/protein   A1BG     NCBI   \n",
       "\n",
       "           y_id   y_type                   y_name  y_source  \n",
       "0  R-HSA-114608  pathway  Platelet degranulation   REACTOME  "
      ]
     },
     "execution_count": 40,
     "metadata": {},
     "output_type": "execute_result"
    }
   ],
   "source": [
    "df_path_prot = pd.merge(df_reactome_ncbi, df_prot_names, 'inner', 'ncbi_id')\n",
    "\n",
    "df_path_prot = df_path_prot.rename(columns={'ncbi_id': 'x_id', 'symbol':'x_name', \n",
    "                                            'reactome_id': 'y_id', 'reactome_name':'y_name'})\n",
    "df_path_prot['x_source'] = 'NCBI'\n",
    "df_path_prot['x_type'] = 'gene/protein'\n",
    "df_path_prot['y_source'] = 'REACTOME'\n",
    "df_path_prot['y_type'] = 'pathway'\n",
    "df_path_prot['relation'] = 'pathway_protein'\n",
    "df_path_prot['display_relation'] = 'interacts with'\n",
    "df_path_prot = clean_edges(df_path_prot)\n",
    "df_path_prot.head(1)"
   ]
  },
  {
   "cell_type": "markdown",
   "metadata": {
    "heading_collapsed": true
   },
   "source": [
    "# Compiling knowledge graph"
   ]
  },
  {
   "cell_type": "code",
   "execution_count": null,
   "metadata": {
    "ExecuteTime": {
     "end_time": "2021-08-06T12:19:32.597604Z",
     "start_time": "2021-08-06T12:18:51.620711Z"
    },
    "hidden": true
   },
   "outputs": [
    {
     "data": {
      "text/html": [
       "<div>\n",
       "<style scoped>\n",
       "    .dataframe tbody tr th:only-of-type {\n",
       "        vertical-align: middle;\n",
       "    }\n",
       "\n",
       "    .dataframe tbody tr th {\n",
       "        vertical-align: top;\n",
       "    }\n",
       "\n",
       "    .dataframe thead th {\n",
       "        text-align: right;\n",
       "    }\n",
       "</style>\n",
       "<table border=\"1\" class=\"dataframe\">\n",
       "  <thead>\n",
       "    <tr style=\"text-align: right;\">\n",
       "      <th></th>\n",
       "      <th>relation</th>\n",
       "      <th>display_relation</th>\n",
       "      <th>x_id</th>\n",
       "      <th>x_type</th>\n",
       "      <th>x_name</th>\n",
       "      <th>x_source</th>\n",
       "      <th>y_id</th>\n",
       "      <th>y_type</th>\n",
       "      <th>y_name</th>\n",
       "      <th>y_source</th>\n",
       "    </tr>\n",
       "  </thead>\n",
       "  <tbody>\n",
       "    <tr>\n",
       "      <th>0</th>\n",
       "      <td>protein_protein</td>\n",
       "      <td>ppi</td>\n",
       "      <td>9796</td>\n",
       "      <td>gene/protein</td>\n",
       "      <td>PHYHIP</td>\n",
       "      <td>NCBI</td>\n",
       "      <td>56992</td>\n",
       "      <td>gene/protein</td>\n",
       "      <td>KIF15</td>\n",
       "      <td>NCBI</td>\n",
       "    </tr>\n",
       "    <tr>\n",
       "      <th>1</th>\n",
       "      <td>protein_protein</td>\n",
       "      <td>ppi</td>\n",
       "      <td>7918</td>\n",
       "      <td>gene/protein</td>\n",
       "      <td>GPANK1</td>\n",
       "      <td>NCBI</td>\n",
       "      <td>9240</td>\n",
       "      <td>gene/protein</td>\n",
       "      <td>PNMA1</td>\n",
       "      <td>NCBI</td>\n",
       "    </tr>\n",
       "    <tr>\n",
       "      <th>2</th>\n",
       "      <td>protein_protein</td>\n",
       "      <td>ppi</td>\n",
       "      <td>8233</td>\n",
       "      <td>gene/protein</td>\n",
       "      <td>ZRSR2</td>\n",
       "      <td>NCBI</td>\n",
       "      <td>23548</td>\n",
       "      <td>gene/protein</td>\n",
       "      <td>TTC33</td>\n",
       "      <td>NCBI</td>\n",
       "    </tr>\n",
       "    <tr>\n",
       "      <th>3</th>\n",
       "      <td>protein_protein</td>\n",
       "      <td>ppi</td>\n",
       "      <td>4899</td>\n",
       "      <td>gene/protein</td>\n",
       "      <td>NRF1</td>\n",
       "      <td>NCBI</td>\n",
       "      <td>11253</td>\n",
       "      <td>gene/protein</td>\n",
       "      <td>MAN1B1</td>\n",
       "      <td>NCBI</td>\n",
       "    </tr>\n",
       "    <tr>\n",
       "      <th>4</th>\n",
       "      <td>protein_protein</td>\n",
       "      <td>ppi</td>\n",
       "      <td>5297</td>\n",
       "      <td>gene/protein</td>\n",
       "      <td>PI4KA</td>\n",
       "      <td>NCBI</td>\n",
       "      <td>8601</td>\n",
       "      <td>gene/protein</td>\n",
       "      <td>RGS20</td>\n",
       "      <td>NCBI</td>\n",
       "    </tr>\n",
       "  </tbody>\n",
       "</table>\n",
       "</div>"
      ],
      "text/plain": [
       "          relation display_relation  x_id        x_type  x_name x_source  \\\n",
       "0  protein_protein              ppi  9796  gene/protein  PHYHIP     NCBI   \n",
       "1  protein_protein              ppi  7918  gene/protein  GPANK1     NCBI   \n",
       "2  protein_protein              ppi  8233  gene/protein   ZRSR2     NCBI   \n",
       "3  protein_protein              ppi  4899  gene/protein    NRF1     NCBI   \n",
       "4  protein_protein              ppi  5297  gene/protein   PI4KA     NCBI   \n",
       "\n",
       "    y_id        y_type  y_name y_source  \n",
       "0  56992  gene/protein   KIF15     NCBI  \n",
       "1   9240  gene/protein   PNMA1     NCBI  \n",
       "2  23548  gene/protein   TTC33     NCBI  \n",
       "3  11253  gene/protein  MAN1B1     NCBI  \n",
       "4   8601  gene/protein   RGS20     NCBI  "
      ]
     },
     "execution_count": 41,
     "metadata": {},
     "output_type": "execute_result"
    }
   ],
   "source": [
    "kg = pd.concat([df_prot_prot, df_prot_drug, df_drug_dis, df_drug_drug, df_prot_phe,\n",
    "                df_phe_phe, df_dis_phe_neg, df_dis_phe_pos, df_prot_dis, df_dis_dis, \n",
    "                df_drug_effect, df_bp_bp, df_mf_mf, df_cc_cc, df_prot_mf, \n",
    "                df_prot_cc, df_prot_bp, df_exp_prot, df_exp_dis, df_exp_exp, \n",
    "                df_exp_bp, df_exp_mf, df_exp_cc, df_path_path, df_path_prot,\n",
    "                df_ana_ana, df_ana_prot_pos, df_ana_prot_neg]) #28\n",
    "kg = kg.drop_duplicates()\n",
    "kg_rev = kg.copy().rename(columns={'x_id':'y_id','x_type':'y_type', 'x_name':'y_name', 'x_source':'y_source',\n",
    "                            'y_id':'x_id','y_type':'x_type', 'y_name':'x_name', 'y_source':'x_source' }) #add reverse edges\n",
    "kg = pd.concat([kg, kg_rev])\n",
    "kg = kg.drop_duplicates()\n",
    "kg = kg.dropna()\n",
    "# remove self loops from edges \n",
    "kg = kg.query('not ((x_id == y_id) and (x_type == y_type) and (x_source == y_source) and (x_name == y_name))')\n",
    "kg.head()"
   ]
  },
  {
   "cell_type": "code",
   "execution_count": 21,
   "metadata": {},
   "outputs": [
    {
     "data": {
      "text/html": [
       "<div>\n",
       "<style scoped>\n",
       "    .dataframe tbody tr th:only-of-type {\n",
       "        vertical-align: middle;\n",
       "    }\n",
       "\n",
       "    .dataframe tbody tr th {\n",
       "        vertical-align: top;\n",
       "    }\n",
       "\n",
       "    .dataframe thead th {\n",
       "        text-align: right;\n",
       "    }\n",
       "</style>\n",
       "<table border=\"1\" class=\"dataframe\">\n",
       "  <thead>\n",
       "    <tr style=\"text-align: right;\">\n",
       "      <th></th>\n",
       "      <th>relation</th>\n",
       "      <th>display_relation</th>\n",
       "      <th>x_id</th>\n",
       "      <th>x_type</th>\n",
       "      <th>x_name</th>\n",
       "      <th>x_source</th>\n",
       "      <th>y_id</th>\n",
       "      <th>y_type</th>\n",
       "      <th>y_name</th>\n",
       "      <th>y_source</th>\n",
       "    </tr>\n",
       "  </thead>\n",
       "  <tbody>\n",
       "    <tr>\n",
       "      <th>0</th>\n",
       "      <td>pathway_pathway</td>\n",
       "      <td>parent-child</td>\n",
       "      <td>R-HSA-109581</td>\n",
       "      <td>pathway</td>\n",
       "      <td>Apoptosis</td>\n",
       "      <td>REACTOME</td>\n",
       "      <td>R-HSA-109606</td>\n",
       "      <td>pathway</td>\n",
       "      <td>Intrinsic Pathway for Apoptosis</td>\n",
       "      <td>REACTOME</td>\n",
       "    </tr>\n",
       "    <tr>\n",
       "      <th>1</th>\n",
       "      <td>pathway_pathway</td>\n",
       "      <td>parent-child</td>\n",
       "      <td>R-HSA-109581</td>\n",
       "      <td>pathway</td>\n",
       "      <td>Apoptosis</td>\n",
       "      <td>REACTOME</td>\n",
       "      <td>R-HSA-169911</td>\n",
       "      <td>pathway</td>\n",
       "      <td>Regulation of Apoptosis</td>\n",
       "      <td>REACTOME</td>\n",
       "    </tr>\n",
       "    <tr>\n",
       "      <th>2</th>\n",
       "      <td>pathway_pathway</td>\n",
       "      <td>parent-child</td>\n",
       "      <td>R-HSA-109581</td>\n",
       "      <td>pathway</td>\n",
       "      <td>Apoptosis</td>\n",
       "      <td>REACTOME</td>\n",
       "      <td>R-HSA-5357769</td>\n",
       "      <td>pathway</td>\n",
       "      <td>Caspase activation via extrinsic apoptotic sig...</td>\n",
       "      <td>REACTOME</td>\n",
       "    </tr>\n",
       "    <tr>\n",
       "      <th>3</th>\n",
       "      <td>pathway_pathway</td>\n",
       "      <td>parent-child</td>\n",
       "      <td>R-HSA-109581</td>\n",
       "      <td>pathway</td>\n",
       "      <td>Apoptosis</td>\n",
       "      <td>REACTOME</td>\n",
       "      <td>R-HSA-75153</td>\n",
       "      <td>pathway</td>\n",
       "      <td>Apoptotic execution phase</td>\n",
       "      <td>REACTOME</td>\n",
       "    </tr>\n",
       "    <tr>\n",
       "      <th>4</th>\n",
       "      <td>pathway_pathway</td>\n",
       "      <td>parent-child</td>\n",
       "      <td>R-HSA-109582</td>\n",
       "      <td>pathway</td>\n",
       "      <td>Hemostasis</td>\n",
       "      <td>REACTOME</td>\n",
       "      <td>R-HSA-140877</td>\n",
       "      <td>pathway</td>\n",
       "      <td>Formation of Fibrin Clot (Clotting Cascade)</td>\n",
       "      <td>REACTOME</td>\n",
       "    </tr>\n",
       "  </tbody>\n",
       "</table>\n",
       "</div>"
      ],
      "text/plain": [
       "          relation display_relation          x_id   x_type      x_name  \\\n",
       "0  pathway_pathway     parent-child  R-HSA-109581  pathway   Apoptosis   \n",
       "1  pathway_pathway     parent-child  R-HSA-109581  pathway   Apoptosis   \n",
       "2  pathway_pathway     parent-child  R-HSA-109581  pathway   Apoptosis   \n",
       "3  pathway_pathway     parent-child  R-HSA-109581  pathway   Apoptosis   \n",
       "4  pathway_pathway     parent-child  R-HSA-109582  pathway  Hemostasis   \n",
       "\n",
       "   x_source           y_id   y_type  \\\n",
       "0  REACTOME   R-HSA-109606  pathway   \n",
       "1  REACTOME   R-HSA-169911  pathway   \n",
       "2  REACTOME  R-HSA-5357769  pathway   \n",
       "3  REACTOME    R-HSA-75153  pathway   \n",
       "4  REACTOME   R-HSA-140877  pathway   \n",
       "\n",
       "                                              y_name  y_source  \n",
       "0                    Intrinsic Pathway for Apoptosis  REACTOME  \n",
       "1                            Regulation of Apoptosis  REACTOME  \n",
       "2  Caspase activation via extrinsic apoptotic sig...  REACTOME  \n",
       "3                          Apoptotic execution phase  REACTOME  \n",
       "4        Formation of Fibrin Clot (Clotting Cascade)  REACTOME  "
      ]
     },
     "execution_count": 21,
     "metadata": {},
     "output_type": "execute_result"
    }
   ],
   "source": [
    "kg = pd.concat([df_path_path]) #28\n",
    "kg = kg.drop_duplicates()\n",
    "kg_rev = kg.copy().rename(columns={'x_id':'y_id','x_type':'y_type', 'x_name':'y_name', 'x_source':'y_source',\n",
    "                            'y_id':'x_id','y_type':'x_type', 'y_name':'x_name', 'y_source':'x_source' }) #add reverse edges\n",
    "kg = pd.concat([kg, kg_rev])\n",
    "kg = kg.drop_duplicates()\n",
    "kg = kg.dropna()\n",
    "# remove self loops from edges \n",
    "kg = kg.query('not ((x_id == y_id) and (x_type == y_type) and (x_source == y_source) and (x_name == y_name))')\n",
    "kg.to_csv(save_path+'auxillary/kg_raw.csv', index=True)\n",
    "kg.head()"
   ]
  },
  {
   "cell_type": "code",
   "execution_count": 10,
   "metadata": {
    "ExecuteTime": {
     "end_time": "2021-08-06T12:20:04.693646Z",
     "start_time": "2021-08-06T12:19:32.602234Z"
    },
    "hidden": true
   },
   "outputs": [],
   "source": [
    "# kg.to_csv(save_path+'auxillary/kg_raw.csv', index=False)"
   ]
  },
  {
   "cell_type": "markdown",
   "metadata": {
    "heading_collapsed": true
   },
   "source": [
    "# Get giant component"
   ]
  },
  {
   "cell_type": "code",
   "execution_count": 22,
   "metadata": {
    "ExecuteTime": {
     "end_time": "2021-08-06T12:20:20.238147Z",
     "start_time": "2021-08-06T12:20:04.696534Z"
    },
    "hidden": true
   },
   "outputs": [],
   "source": [
    "kg = pd.read_csv(save_path+'auxillary/kg_raw.csv', low_memory=False)"
   ]
  },
  {
   "cell_type": "code",
   "execution_count": 23,
   "metadata": {
    "ExecuteTime": {
     "end_time": "2021-08-06T12:21:48.910982Z",
     "start_time": "2021-08-06T12:20:20.245604Z"
    },
    "hidden": true
   },
   "outputs": [],
   "source": [
    "nodes = pd.concat([kg.get(['x_id','x_type', 'x_name','x_source']).rename(columns={'x_id':'node_id', 'x_type':'node_type', 'x_name':'node_name','x_source':'node_source'}), \n",
    "                   kg.get(['y_id','y_type', 'y_name','y_source']).rename(columns={'y_id':'node_id', 'y_type':'node_type', 'y_name':'node_name','y_source':'node_source'})])\n",
    "nodes = nodes.drop_duplicates().reset_index().drop('index',axis=1).reset_index().rename(columns={'index':'node_idx'})\n",
    "\n",
    "edges = pd.merge(kg, nodes, 'left', left_on=['x_id','x_type', 'x_name','x_source'], right_on=['node_id','node_type','node_name','node_source'])\n",
    "edges = edges.rename(columns={'node_idx':'x_idx'})\n",
    "edges = pd.merge(edges, nodes, 'left', left_on=['y_id','y_type', 'y_name','y_source'], right_on=['node_id','node_type','node_name','node_source'])\n",
    "edges = edges.rename(columns={'node_idx':'y_idx'})\n",
    "edges = edges.get(['relation', 'display_relation','x_idx', 'y_idx'])\n",
    "edges['combine_idx'] = edges['x_idx'].astype(str) + '-' + edges['y_idx'].astype(str)\n",
    "\n",
    "edge_index = edges.get(['x_idx', 'y_idx']).values.T\n",
    "\n",
    "graph = ig.Graph()\n",
    "graph.add_vertices(list(range(nodes.shape[0])))\n",
    "graph.add_edges([tuple(x) for x in edge_index.T])\n",
    "\n",
    "graph = graph.as_undirected(mode='collapse')\n",
    "\n",
    "c = graph.components(mode='strong')\n",
    "giant = c.giant()\n",
    "\n",
    "#print('Nodes: %d' % giant.vcount())\n",
    "#print('Edges: %d' % giant.ecount())\n",
    "\n",
    "assert not giant.is_directed()\n",
    "assert giant.is_connected()\n",
    "\n",
    "giant_nodes = giant.vs['name']\n",
    "new_nodes = nodes.query('node_idx in @giant_nodes')\n",
    "assert new_nodes.shape[0] == giant.vcount()\n",
    "\n",
    "new_edges = edges.query('x_idx in @giant_nodes and y_idx in @giant_nodes').copy()\n",
    "assert new_edges.shape[0] == giant.ecount()\n",
    "\n",
    "new_kg = pd.merge(new_edges, new_nodes, 'left', left_on='x_idx', right_on='node_idx')\n",
    "new_kg = new_kg.rename(columns={'node_id':'x_id', 'node_type':'x_type', 'node_name':'x_name','node_source':'x_source'}) \n",
    "new_kg = pd.merge(new_kg, new_nodes, 'left', left_on='y_idx', right_on='node_idx')\n",
    "new_kg = new_kg.rename(columns={'node_id':'y_id', 'node_type':'y_type', 'node_name':'y_name','node_source':'y_source'}) \n",
    "new_kg = clean_edges(new_kg)"
   ]
  },
  {
   "cell_type": "code",
   "execution_count": 29,
   "metadata": {
    "ExecuteTime": {
     "end_time": "2021-08-06T12:22:20.208631Z",
     "start_time": "2021-08-06T12:21:48.913545Z"
    },
    "hidden": true
   },
   "outputs": [],
   "source": [
    "kg = new_kg.copy()\n",
    "kg.to_csv(save_path+'auxillary/kg_giant.csv', index=False)"
   ]
  },
  {
   "cell_type": "markdown",
   "metadata": {
    "heading_collapsed": true
   },
   "source": [
    "# Collapse similar diseases"
   ]
  },
  {
   "cell_type": "code",
   "execution_count": 25,
   "metadata": {
    "ExecuteTime": {
     "end_time": "2021-08-06T12:22:34.422640Z",
     "start_time": "2021-08-06T12:22:20.210477Z"
    },
    "hidden": true
   },
   "outputs": [],
   "source": [
    "kg = pd.read_csv(save_path+'auxillary/kg_giant.csv', low_memory=False)"
   ]
  },
  {
   "cell_type": "markdown",
   "metadata": {
    "hidden": true
   },
   "source": [
    "## Find Groups"
   ]
  },
  {
   "cell_type": "markdown",
   "metadata": {
    "heading_collapsed": true,
    "hidden": true
   },
   "source": [
    "### Automated grouping"
   ]
  },
  {
   "cell_type": "code",
   "execution_count": 26,
   "metadata": {
    "ExecuteTime": {
     "end_time": "2021-08-06T12:22:34.495911Z",
     "start_time": "2021-08-06T12:22:34.424764Z"
    },
    "hidden": true
   },
   "outputs": [],
   "source": [
    "# '''\n",
    "disease_nodes = pd.concat([kg.get(['x_id','x_type', 'x_name','x_source']).rename(columns={'x_id':'node_id', 'x_type':'node_type', 'x_name':'node_name','x_source':'node_source'}), \n",
    "                   kg.get(['y_id','y_type', 'y_name','y_source']).rename(columns={'y_id':'node_id', 'y_type':'node_type', 'y_name':'node_name','y_source':'node_source'})])\n",
    "disease_nodes = disease_nodes.query('node_type==\"disease\"')\n",
    "disease_nodes = disease_nodes.drop_duplicates().reset_index().drop('index',axis=1).reset_index().rename(columns={'index':'node_idx'})\n",
    "# '''"
   ]
  },
  {
   "cell_type": "code",
   "execution_count": 27,
   "metadata": {
    "ExecuteTime": {
     "end_time": "2021-08-06T12:22:34.540058Z",
     "start_time": "2021-08-06T12:22:34.501005Z"
    },
    "hidden": true,
    "scrolled": true
   },
   "outputs": [],
   "source": [
    "# '''\n",
    "groups = []\n",
    "seen = set()\n",
    "idx2group = {}\n",
    "no = set()\n",
    "\n",
    "def isroman(s):\n",
    "    return bool(re.search(r\"^M{0,3}(CM|CD|D?C{0,3})(XC|XL|L?X{0,3})(IX|IV|V?I{0,3})$\",s))\n",
    "\n",
    "def issingleletter(s): \n",
    "    if len(s)>1: return False\n",
    "\n",
    "def same_words(s1, s2): \n",
    "    for word in s1.lower().split(' '): \n",
    "        word = word.split(',')[0]\n",
    "        if word!='type' and word!='(disease)' and word not in s2.lower(): \n",
    "            return False \n",
    "    for word in s2.lower().split(' '): \n",
    "        word = word.split(',')[0]\n",
    "        if word!='type' and word!='(disease)' and word not in s1.lower(): \n",
    "            return False\n",
    "    return True\n",
    "\n",
    "for i in range(disease_nodes.shape[0]):\n",
    "    i_name = disease_nodes.loc[i, 'node_name']\n",
    "    i_idx = disease_nodes.loc[i, 'node_idx']\n",
    "    for w in ['monosomy','disomy', 'trisomy', 'trisomy/tetrasomy', 'chromosome']: \n",
    "        if w in i_name: \n",
    "            no.add(i_idx)\n",
    "\n",
    "for i in range(disease_nodes.shape[0]):\n",
    "    i_idx = disease_nodes.loc[i, 'node_idx']\n",
    "    if i_idx in seen: continue \n",
    "    if i_idx in no: continue \n",
    "    i_name = disease_nodes.loc[i, 'node_name']\n",
    "    i_split = i_name.split(' ')\n",
    "    end = i_split[-1]\n",
    "    if len(end)<=2 or end.isnumeric() or isroman(end):  \n",
    "        main_text = ' '.join(i_split[:-1])\n",
    "        matches = [i_name]\n",
    "        matches_idx = [i_idx]\n",
    "        match_found = False\n",
    "        numeric = True\n",
    "        for j in range(disease_nodes.shape[0]):\n",
    "            j_idx = disease_nodes.loc[j, 'node_idx']\n",
    "            j_name = disease_nodes.loc[j, 'node_name']\n",
    "            m = ' '.join(j_name.split(' ')[:-1])\n",
    "            if m.lower() == main_text.lower() or same_words(m, main_text): \n",
    "                matches.append(j_name)\n",
    "                matches_idx.append(j_idx)\n",
    "                match_found = True\n",
    "        if match_found:\n",
    "            matches_idx = list(set(matches_idx))\n",
    "            matches = list(set(matches))\n",
    "            if len(matches) <= 1: continue \n",
    "            if main_text.endswith('type'): \n",
    "                main_text = main_text[:-4]\n",
    "            if main_text.endswith(','): \n",
    "                main_text = main_text[:-1]\n",
    "            if main_text.endswith(' '): \n",
    "                main_text = main_text[:-1]\n",
    "            print(main_text)\n",
    "            for x in sorted(matches): \n",
    "                print('-  ',x)\n",
    "            for x in matches_idx: \n",
    "                seen.add(x)\n",
    "                idx2group[x] = main_text\n",
    "            groups.append((main_text, matches_idx))\n",
    "\n",
    "# '''"
   ]
  },
  {
   "cell_type": "code",
   "execution_count": 28,
   "metadata": {
    "ExecuteTime": {
     "end_time": "2021-08-06T12:22:34.579734Z",
     "start_time": "2021-08-06T12:22:34.542417Z"
    },
    "hidden": true
   },
   "outputs": [
    {
     "ename": "ValueError",
     "evalue": "cannot set a frame with no defined index and a scalar",
     "output_type": "error",
     "traceback": [
      "\u001b[0;31m---------------------------------------------------------------------------\u001b[0m",
      "\u001b[0;31mValueError\u001b[0m                                Traceback (most recent call last)",
      "Cell \u001b[0;32mIn[28], line 2\u001b[0m\n\u001b[1;32m      1\u001b[0m \u001b[38;5;66;03m# '''\u001b[39;00m\n\u001b[0;32m----> 2\u001b[0m disease_nodes\u001b[38;5;241m.\u001b[39mloc[:, \u001b[38;5;124m'\u001b[39m\u001b[38;5;124mgroup_name\u001b[39m\u001b[38;5;124m'\u001b[39m] \u001b[38;5;241m=\u001b[39m \u001b[38;5;124m'\u001b[39m\u001b[38;5;124m'\u001b[39m\n\u001b[1;32m      3\u001b[0m \u001b[38;5;28;01mfor\u001b[39;00m data \u001b[38;5;129;01min\u001b[39;00m disease_nodes\u001b[38;5;241m.\u001b[39mitertuples():\n\u001b[1;32m      4\u001b[0m     \u001b[38;5;28;01mif\u001b[39;00m data\u001b[38;5;241m.\u001b[39mnode_idx \u001b[38;5;129;01min\u001b[39;00m idx2group\u001b[38;5;241m.\u001b[39mkeys(): \n",
      "File \u001b[0;32m~/anaconda3/lib/python3.11/site-packages/pandas/core/indexing.py:716\u001b[0m, in \u001b[0;36m_LocationIndexer.__setitem__\u001b[0;34m(self, key, value)\u001b[0m\n\u001b[1;32m    713\u001b[0m \u001b[38;5;28mself\u001b[39m\u001b[38;5;241m.\u001b[39m_has_valid_setitem_indexer(key)\n\u001b[1;32m    715\u001b[0m iloc \u001b[38;5;241m=\u001b[39m \u001b[38;5;28mself\u001b[39m \u001b[38;5;28;01mif\u001b[39;00m \u001b[38;5;28mself\u001b[39m\u001b[38;5;241m.\u001b[39mname \u001b[38;5;241m==\u001b[39m \u001b[38;5;124m\"\u001b[39m\u001b[38;5;124miloc\u001b[39m\u001b[38;5;124m\"\u001b[39m \u001b[38;5;28;01melse\u001b[39;00m \u001b[38;5;28mself\u001b[39m\u001b[38;5;241m.\u001b[39mobj\u001b[38;5;241m.\u001b[39miloc\n\u001b[0;32m--> 716\u001b[0m iloc\u001b[38;5;241m.\u001b[39m_setitem_with_indexer(indexer, value, \u001b[38;5;28mself\u001b[39m\u001b[38;5;241m.\u001b[39mname)\n",
      "File \u001b[0;32m~/anaconda3/lib/python3.11/site-packages/pandas/core/indexing.py:1615\u001b[0m, in \u001b[0;36m_iLocIndexer._setitem_with_indexer\u001b[0;34m(self, indexer, value, name)\u001b[0m\n\u001b[1;32m   1613\u001b[0m \u001b[38;5;28;01mif\u001b[39;00m \u001b[38;5;129;01mnot\u001b[39;00m \u001b[38;5;28mlen\u001b[39m(\u001b[38;5;28mself\u001b[39m\u001b[38;5;241m.\u001b[39mobj):\n\u001b[1;32m   1614\u001b[0m     \u001b[38;5;28;01mif\u001b[39;00m \u001b[38;5;129;01mnot\u001b[39;00m is_list_like_indexer(value):\n\u001b[0;32m-> 1615\u001b[0m         \u001b[38;5;28;01mraise\u001b[39;00m \u001b[38;5;167;01mValueError\u001b[39;00m(\n\u001b[1;32m   1616\u001b[0m             \u001b[38;5;124m\"\u001b[39m\u001b[38;5;124mcannot set a frame with no \u001b[39m\u001b[38;5;124m\"\u001b[39m\n\u001b[1;32m   1617\u001b[0m             \u001b[38;5;124m\"\u001b[39m\u001b[38;5;124mdefined index and a scalar\u001b[39m\u001b[38;5;124m\"\u001b[39m\n\u001b[1;32m   1618\u001b[0m         )\n\u001b[1;32m   1619\u001b[0m     \u001b[38;5;28mself\u001b[39m\u001b[38;5;241m.\u001b[39mobj[key] \u001b[38;5;241m=\u001b[39m value\n\u001b[1;32m   1620\u001b[0m     \u001b[38;5;28;01mreturn\u001b[39;00m\n",
      "\u001b[0;31mValueError\u001b[0m: cannot set a frame with no defined index and a scalar"
     ]
    }
   ],
   "source": [
    "# '''\n",
    "disease_nodes.loc[:, 'group_name'] = ''\n",
    "for data in disease_nodes.itertuples():\n",
    "    if data.node_idx in idx2group.keys(): \n",
    "        disease_nodes.loc[data.Index, 'group_name'] = idx2group[data.node_idx]\n",
    "    else: \n",
    "        disease_nodes.loc[data.Index, 'group_name'] = data.node_name\n",
    "        \n",
    "disease_group_1 = disease_nodes.get(['group_name']).drop_duplicates().reset_index().rename(columns={'index':'group_idx'})\n",
    "disease_nodes = pd.merge(disease_nodes, disease_group_1, 'left', 'group_name')\n",
    "# '''"
   ]
  },
  {
   "cell_type": "markdown",
   "metadata": {
    "heading_collapsed": true,
    "hidden": true
   },
   "source": [
    "### Grouping with BERT"
   ]
  },
  {
   "cell_type": "code",
   "execution_count": null,
   "metadata": {
    "ExecuteTime": {
     "end_time": "2021-08-06T12:22:34.618408Z",
     "start_time": "2021-08-06T12:22:34.582228Z"
    },
    "code_folding": [],
    "hidden": true
   },
   "outputs": [
    {
     "name": "stderr",
     "output_type": "stream",
     "text": [
      "Some weights of the model checkpoint at emilyalsentzer/Bio_ClinicalBERT were not used when initializing BertModel: ['cls.predictions.transform.LayerNorm.weight', 'cls.predictions.transform.dense.weight', 'cls.predictions.bias', 'cls.predictions.transform.dense.bias', 'cls.predictions.decoder.weight', 'cls.seq_relationship.bias', 'cls.predictions.transform.LayerNorm.bias', 'cls.seq_relationship.weight']\n",
      "- This IS expected if you are initializing BertModel from the checkpoint of a model trained on another task or with another architecture (e.g. initializing a BertForSequenceClassification model from a BertForPreTraining model).\n",
      "- This IS NOT expected if you are initializing BertModel from the checkpoint of a model that you expect to be exactly identical (initializing a BertForSequenceClassification model from a BertForSequenceClassification model).\n"
     ]
    },
    {
     "data": {
      "application/vnd.jupyter.widget-view+json": {
       "model_id": "d39e73566c7146d7a2e358a69ff35d64",
       "version_major": 2,
       "version_minor": 0
      },
      "text/plain": [
       "0it [00:00, ?it/s]"
      ]
     },
     "metadata": {},
     "output_type": "display_data"
    }
   ],
   "source": [
    "# generate embeddings \n",
    "# '''\n",
    "input_text = list(disease_group_1.get('group_name').values)\n",
    "\n",
    "device = torch.device(\"cuda:0\" if torch.cuda.is_available() else \"cpu\")\n",
    "#model_name='dmis-lab/biobert-large-cased-v1.1'\n",
    "model_name = 'emilyalsentzer/Bio_ClinicalBERT'\n",
    "tokenizer = AutoTokenizer.from_pretrained(model_name)\n",
    "model = AutoModel.from_pretrained(model_name)\n",
    "model = model.to(device)\n",
    "model.eval()\n",
    "\n",
    "def batch(iterable, batch_size=4, return_idx=True):\n",
    "    l = len(iterable)\n",
    "    for ndx in range(0, l, batch_size):\n",
    "        if return_idx: \n",
    "            yield (ndx, min(ndx + batch_size, l))\n",
    "        else:\n",
    "            yield iterable[ndx:min(ndx + batch_size, l)]\n",
    "            \n",
    "tmp_dir = 'tmp/'\n",
    "if os.path.isdir(tmp_dir): \n",
    "    shutil.rmtree(tmp_dir)\n",
    "os.mkdir(tmp_dir)\n",
    "\n",
    "batch_size=32\n",
    "input_tokens = tokenizer(input_text, padding=True, return_tensors='pt', truncation=True, max_length=512)\n",
    "for i, (start, end) in tqdm(enumerate(batch(input_text, batch_size))):\n",
    "    input_ids = input_tokens['input_ids'][start:end, :].to(device)\n",
    "    attention_mask = input_tokens['attention_mask'][start:end, :].to(device)\n",
    "    with torch.no_grad():\n",
    "        outputs = model(input_ids=input_ids, attention_mask=attention_mask)\n",
    "        embeds = torch.mean(outputs[0], dim=1)\n",
    "    np.save(tmp_dir+str(i)+'.npy', embeds.cpu().numpy())\n",
    "    \n",
    "embeds = []\n",
    "for i, _ in enumerate(batch(input_text, batch_size)):\n",
    "    x = np.load(tmp_dir+str(i)+'.npy')\n",
    "    embeds.append(x)\n",
    "embeds = np.concatenate(embeds)\n",
    "\n",
    "np.save(save_path+'auxillary/kg_disease_bert_embeds.npy', embeds)\n",
    "if os.path.isdir(tmp_dir): \n",
    "    shutil.rmtree(tmp_dir)\n",
    "#'''"
   ]
  },
  {
   "cell_type": "code",
   "execution_count": null,
   "metadata": {
    "ExecuteTime": {
     "end_time": "2021-08-06T12:22:34.656301Z",
     "start_time": "2021-08-06T12:22:34.621379Z"
    },
    "hidden": true
   },
   "outputs": [
    {
     "name": "stdout",
     "output_type": "stream",
     "text": [
      "familial pseudohyperkalemia\n",
      "familial primary hyperparathyroidism\n",
      "familial hyperinsulinism\n",
      "Not added\n",
      "nystagmus 6, congenital, X-linked\n",
      "nystagmus 1, congenital, X-linked\n",
      "nystagmus 5, congenital, X-linked\n",
      "Not added\n",
      "neuronopathy, distal hereditary motor,\n",
      "neuronopathy, distal hereditary motor\n",
      "Not added\n",
      "galactosemia 4\n",
      "galactosemia\n",
      "Not added\n",
      "intellectual disability, autosomal recessive\n",
      "intellectual disability, autosomal dominant\n",
      "Not added\n",
      "hemophilia\n",
      "severe hemophilia\n",
      "Not added\n",
      "xeroderma pigmentosum group\n",
      "xeroderma pigmentosum\n",
      "Not added\n",
      "autosomal dominant nonsyndromic hearing loss\n",
      "autosomal recessive nonsyndromic hearing loss\n",
      "Not added\n",
      "GM1 gangliosidosis\n",
      "GM2 gangliosidosis\n",
      "Not added\n",
      "oocyte maturation defect\n",
      "inherited oocyte maturation defect\n",
      "Not added\n",
      "autosomal recessive congenital ichthyosis\n",
      "autosomal recessive faciodigitogenital syndrome\n",
      "Not added\n",
      "GNPTG-mucolipidosis\n",
      "GNPTAB-mucolipidosis\n",
      "Not added\n",
      "polycystic liver disease\n",
      "polycystic kidney disease\n",
      "polycystic bone disease\n",
      "Not added\n",
      "autosomal dominant nonsyndromic hearing loss\n",
      "autosomal recessive nonsyndromic hearing loss\n",
      "Not added\n",
      "ectodermal dysplasia 9, hair/nail type\n",
      "ectodermal dysplasia 4, hair/nail type\n",
      "ectodermal dysplasia 13, hair/tooth type\n",
      "ectodermal dysplasia 5, hair/nail type\n",
      "ectodermal dysplasia 12, hypohidrotic/hair/tooth/nail type\n",
      "ectodermal dysplasia 7, hair/nail type\n",
      "ectodermal dysplasia 6, hair/nail type\n",
      "Not added\n",
      "proximal renal tubular acidosis\n",
      "distal renal tubular acidosis\n",
      "renal tubular acidosis\n",
      "primary renal tubular acidosis\n",
      "Not added\n",
      "radioulnar synostosis with amegakaryocytic thrombocytopenia\n",
      "radio-ulnar synostosis-amegakaryocytic thrombocytopenia syndrome\n",
      "Not added\n",
      "dyskeratosis congenita, autosomal recessive\n",
      "dyskeratosis congenita, autosomal dominant\n",
      "dyskeratosis congenita, digenic\n",
      "Not added\n",
      "thrombocytopenia\n",
      "primary thrombocytopenia\n",
      "Not added\n",
      "hypogonadotropic hypogonadism 24 without anosmia\n",
      "hypogonadotropic hypogonadism 15 with or without anosmia\n",
      "hypogonadotropic hypogonadism 4 with or without anosmia\n",
      "hypogonadotropic hypogonadism 13 with or without anosmia\n",
      "hypogonadotropic hypogonadism 16 with or without anosmia\n",
      "hypogonadotropic hypogonadism 11 with or without anosmia\n",
      "hypogonadotropic hypogonadism 25 with anosmia\n",
      "hypogonadotropic hypogonadism 12 with or without anosmia\n",
      "hypogonadotropic hypogonadism 27 without anosmia\n",
      "hypogonadotropic hypogonadism 5 with or without anosmia\n",
      "hypogonadotropic hypogonadism 2 with or without anosmia\n",
      "hypogonadotropic hypogonadism 8 with or without anosmia\n",
      "hypogonadotropic hypogonadism 26 with or without anosmia\n",
      "hypogonadotropic hypogonadism 19 with or without anosmia\n",
      "hypogonadotropic hypogonadism 6 with or without anosmia\n",
      "hypogonadotropic hypogonadism 3 with or without anosmia\n",
      "hypogonadotropic hypogonadism 23 with or without anosmia\n",
      "hypogonadotropic hypogonadism 7 with or without anosmia\n",
      "hypogonadotropic hypogonadism 22 with or without anosmia\n",
      "hypogonadotropic hypogonadism 20 with or without anosmia\n",
      "hypogonadotropic hypogonadism 21 with or without anosmia\n",
      "hypogonadotropic hypogonadism 18 with or without anosmia\n",
      "hypogonadotropic hypogonadism 9 with or without anosmia\n",
      "hypogonadotropic hypogonadism 10 with or without anosmia\n",
      "hypogonadotropic hypogonadism 17 with or without anosmia\n",
      "hypogonadotropic hypogonadism 1 with or without anosmia\n",
      "hypogonadotropic hypogonadism 14 with or without anosmia\n",
      "Not added\n",
      "autosomal dominant osteopetrosis\n",
      "autosomal recessive osteopetrosis\n",
      "Not added\n",
      "retinitis pigmentosa inversa with deafness\n",
      "retinitis pigmentosa-deafness syndrome\n"
     ]
    },
    {
     "ename": "KeyboardInterrupt",
     "evalue": "Interrupted by user",
     "output_type": "error",
     "traceback": [
      "\u001b[0;31m---------------------------------------------------------------------------\u001b[0m",
      "\u001b[0;31mKeyboardInterrupt\u001b[0m                         Traceback (most recent call last)",
      "Cell \u001b[0;32mIn[53], line 40\u001b[0m\n\u001b[1;32m     38\u001b[0m \u001b[39mfor\u001b[39;00m v \u001b[39min\u001b[39;00m x\u001b[39m.\u001b[39mget(\u001b[39m'\u001b[39m\u001b[39mgroup_name\u001b[39m\u001b[39m'\u001b[39m)\u001b[39m.\u001b[39mvalues: \n\u001b[1;32m     39\u001b[0m     \u001b[39mprint\u001b[39m(v)\n\u001b[0;32m---> 40\u001b[0m main_text \u001b[39m=\u001b[39m \u001b[39minput\u001b[39;49m(\u001b[39m'\u001b[39;49m\u001b[39m Ok? \u001b[39;49m\u001b[39m'\u001b[39;49m)\n\u001b[1;32m     41\u001b[0m \u001b[39mif\u001b[39;00m main_text \u001b[39mnot\u001b[39;00m \u001b[39min\u001b[39;00m [\u001b[39m'\u001b[39m\u001b[39m'\u001b[39m,\u001b[39m'\u001b[39m\u001b[39mon\u001b[39m\u001b[39m'\u001b[39m,\u001b[39m'\u001b[39m\u001b[39mno\u001b[39m\u001b[39m'\u001b[39m, \u001b[39m'\u001b[39m\u001b[39mNo\u001b[39m\u001b[39m'\u001b[39m, \u001b[39m'\u001b[39m\u001b[39mNO\u001b[39m\u001b[39m'\u001b[39m]: \n\u001b[1;32m     42\u001b[0m     \u001b[39mfor\u001b[39;00m v \u001b[39min\u001b[39;00m x\u001b[39m.\u001b[39mget(\u001b[39m'\u001b[39m\u001b[39mgroup_idx\u001b[39m\u001b[39m'\u001b[39m)\u001b[39m.\u001b[39mvalues: \n",
      "File \u001b[0;32m/n/data1/hms/dbmi/zitnik/lab/users/an252/PrimeKG/primeKG_env/lib/python3.9/site-packages/ipykernel/kernelbase.py:1202\u001b[0m, in \u001b[0;36mKernel.raw_input\u001b[0;34m(self, prompt)\u001b[0m\n\u001b[1;32m   1200\u001b[0m     msg \u001b[39m=\u001b[39m \u001b[39m\"\u001b[39m\u001b[39mraw_input was called, but this frontend does not support input requests.\u001b[39m\u001b[39m\"\u001b[39m\n\u001b[1;32m   1201\u001b[0m     \u001b[39mraise\u001b[39;00m StdinNotImplementedError(msg)\n\u001b[0;32m-> 1202\u001b[0m \u001b[39mreturn\u001b[39;00m \u001b[39mself\u001b[39;49m\u001b[39m.\u001b[39;49m_input_request(\n\u001b[1;32m   1203\u001b[0m     \u001b[39mstr\u001b[39;49m(prompt),\n\u001b[1;32m   1204\u001b[0m     \u001b[39mself\u001b[39;49m\u001b[39m.\u001b[39;49m_parent_ident[\u001b[39m\"\u001b[39;49m\u001b[39mshell\u001b[39;49m\u001b[39m\"\u001b[39;49m],\n\u001b[1;32m   1205\u001b[0m     \u001b[39mself\u001b[39;49m\u001b[39m.\u001b[39;49mget_parent(\u001b[39m\"\u001b[39;49m\u001b[39mshell\u001b[39;49m\u001b[39m\"\u001b[39;49m),\n\u001b[1;32m   1206\u001b[0m     password\u001b[39m=\u001b[39;49m\u001b[39mFalse\u001b[39;49;00m,\n\u001b[1;32m   1207\u001b[0m )\n",
      "File \u001b[0;32m/n/data1/hms/dbmi/zitnik/lab/users/an252/PrimeKG/primeKG_env/lib/python3.9/site-packages/ipykernel/kernelbase.py:1245\u001b[0m, in \u001b[0;36mKernel._input_request\u001b[0;34m(self, prompt, ident, parent, password)\u001b[0m\n\u001b[1;32m   1242\u001b[0m \u001b[39mexcept\u001b[39;00m \u001b[39mKeyboardInterrupt\u001b[39;00m:\n\u001b[1;32m   1243\u001b[0m     \u001b[39m# re-raise KeyboardInterrupt, to truncate traceback\u001b[39;00m\n\u001b[1;32m   1244\u001b[0m     msg \u001b[39m=\u001b[39m \u001b[39m\"\u001b[39m\u001b[39mInterrupted by user\u001b[39m\u001b[39m\"\u001b[39m\n\u001b[0;32m-> 1245\u001b[0m     \u001b[39mraise\u001b[39;00m \u001b[39mKeyboardInterrupt\u001b[39;00m(msg) \u001b[39mfrom\u001b[39;00m \u001b[39mNone\u001b[39;00m\n\u001b[1;32m   1246\u001b[0m \u001b[39mexcept\u001b[39;00m \u001b[39mException\u001b[39;00m:\n\u001b[1;32m   1247\u001b[0m     \u001b[39mself\u001b[39m\u001b[39m.\u001b[39mlog\u001b[39m.\u001b[39mwarning(\u001b[39m\"\u001b[39m\u001b[39mInvalid Message:\u001b[39m\u001b[39m\"\u001b[39m, exc_info\u001b[39m=\u001b[39m\u001b[39mTrue\u001b[39;00m)\n",
      "\u001b[0;31mKeyboardInterrupt\u001b[0m: Interrupted by user"
     ]
    }
   ],
   "source": [
    "# '''\n",
    "embeds = np.load(save_path+'auxillary/kg_disease_bert_embeds.npy')\n",
    "cos_sim = cosine_similarity(embeds, embeds)\n",
    "\n",
    "seen = set()\n",
    "groups = []\n",
    "idx2group = {}\n",
    "no = set()\n",
    "\n",
    "for i in range(disease_group_1.shape[0]):\n",
    "    i_name = disease_group_1.loc[i, 'group_name']\n",
    "    i_idx = disease_group_1.loc[i, 'group_idx']\n",
    "    for w in ['cardiomyopathy', 'syndrome', 'combined', 'complement', 'deficiency', \n",
    "              'factor', 'immunodeficiency', 'monosomy','disomy', 'trisomy', \n",
    "              'trisomy/tetrasomy', 'chromosome', 'neuroendocrine tumor', \n",
    "              'neuroendocrine neoplasm', 'cancer', 'tumor', 'neoplasm','carcinoma',\n",
    "              'lymphoma', 'lipoma']: \n",
    "        if w in i_name: \n",
    "            no.add(i_idx)\n",
    "            continue\n",
    "    for w in ['CDG']: \n",
    "        if i_name.endswith(w): \n",
    "            no.add(i_idx)\n",
    "            continue\n",
    "    for w in ['neurodevelopmental disorder', 'glycogen storage disease', \n",
    "              'congenital disorder of glycosylation', 'qualitative or quantitative defects']: \n",
    "        if i_name.startswith(w): \n",
    "            no.add(i_idx)\n",
    "            continue\n",
    "            \n",
    "cutoff = 0.98\n",
    "for i in range(disease_group_1.shape[0]):\n",
    "    i_name = disease_group_1.loc[i, 'group_name']\n",
    "    i_idx = disease_group_1.loc[i, 'group_idx']\n",
    "    if i_idx in no or i_idx in seen: continue\n",
    "    x = disease_group_1[cos_sim[i]>cutoff]\n",
    "    if x.shape[0]>1: \n",
    "        for v in x.get('group_name').values: \n",
    "            print(v)\n",
    "        main_text = input(' Ok? ')\n",
    "        if main_text not in ['','on','no', 'No', 'NO']: \n",
    "            for v in x.get('group_idx').values: \n",
    "                seen.add(v)\n",
    "                idx2group[v] = main_text\n",
    "            g = list(x.get('group_idx').values.reshape(-1))\n",
    "            groups.append((main_text, g)) # main_text contains group name\n",
    "        else: \n",
    "            no.add(i_idx)\n",
    "            print('Not added')\n",
    "# '''"
   ]
  },
  {
   "cell_type": "code",
   "execution_count": null,
   "metadata": {
    "ExecuteTime": {
     "end_time": "2021-08-06T12:22:34.702232Z",
     "start_time": "2021-08-06T12:22:34.662051Z"
    },
    "hidden": true
   },
   "outputs": [
    {
     "ename": "",
     "evalue": "",
     "output_type": "error",
     "traceback": [
      "\u001b[1;31mFailed to start the Kernel 'Python 3 (ipykernel)'. \n",
      "\u001b[1;31mView Jupyter <a href='command:jupyter.viewOutput'>log</a> for further details. Server Not found"
     ]
    }
   ],
   "source": [
    "# '''\n",
    "disease_group_1.loc[:, 'group_name_2'] = ''\n",
    "for data in disease_group_1.itertuples(): \n",
    "    if data.group_idx in idx2group.keys():\n",
    "        disease_group_1.loc[data.Index, 'group_name_2'] = idx2group[data.group_idx]\n",
    "    else: \n",
    "        disease_group_1.loc[data.Index, 'group_name_2'] = data.group_name\n",
    "        \n",
    "disease_group_2 = disease_group_1.get(['group_name_2']).drop_duplicates().reset_index().rename(columns={'index':'group_idx_2'})\n",
    "# '''"
   ]
  },
  {
   "cell_type": "code",
   "execution_count": null,
   "metadata": {
    "ExecuteTime": {
     "end_time": "2021-08-06T12:22:34.745711Z",
     "start_time": "2021-08-06T12:22:34.709900Z"
    },
    "hidden": true
   },
   "outputs": [
    {
     "ename": "",
     "evalue": "",
     "output_type": "error",
     "traceback": [
      "\u001b[1;31mFailed to start the Kernel 'Python 3 (ipykernel)'. \n",
      "\u001b[1;31mView Jupyter <a href='command:jupyter.viewOutput'>log</a> for further details. Server Not found"
     ]
    }
   ],
   "source": [
    "# '''\n",
    "df_disease_group = pd.merge(disease_nodes, disease_group_1, 'left', 'group_name')\n",
    "df_disease_group = df_disease_group.get(['node_id', 'node_type', 'node_name', 'node_source',\n",
    "       'group_name', 'group_name_2'])\n",
    "df_disease_group = df_disease_group.rename(columns={'group_name':'group_name_auto',\n",
    "        'group_name_2':'group_name_bert'}).astype({'node_id':str})\n",
    "df_disease_group.to_csv(save_path+'auxillary/kg_grouped_diseases.csv')\n",
    "# '''"
   ]
  },
  {
   "cell_type": "markdown",
   "metadata": {
    "hidden": true
   },
   "source": [
    "## Apply Groups"
   ]
  },
  {
   "cell_type": "code",
   "execution_count": null,
   "metadata": {
    "ExecuteTime": {
     "end_time": "2021-08-06T12:22:36.824640Z",
     "start_time": "2021-08-06T12:22:34.748321Z"
    },
    "hidden": true
   },
   "outputs": [
    {
     "ename": "NameError",
     "evalue": "name 'pd' is not defined",
     "output_type": "error",
     "traceback": [
      "\u001b[0;31m---------------------------------------------------------------------------\u001b[0m",
      "\u001b[0;31mNameError\u001b[0m                                 Traceback (most recent call last)",
      "Cell \u001b[0;32mIn[1], line 1\u001b[0m\n\u001b[0;32m----> 1\u001b[0m grouped_diseases \u001b[39m=\u001b[39m pd\u001b[39m.\u001b[39mread_csv(save_path\u001b[39m+\u001b[39m\u001b[39m'\u001b[39m\u001b[39mauxillary/kg_grouped_diseases.csv\u001b[39m\u001b[39m'\u001b[39m)\u001b[39m.\u001b[39mastype({\u001b[39m'\u001b[39m\u001b[39mnode_id\u001b[39m\u001b[39m'\u001b[39m:\u001b[39mstr\u001b[39m})\n\u001b[1;32m      2\u001b[0m group_col \u001b[39m=\u001b[39m \u001b[39m'\u001b[39m\u001b[39mgroup_name_bert\u001b[39m\u001b[39m'\u001b[39m\n\u001b[1;32m      4\u001b[0m groups \u001b[39m=\u001b[39m grouped_diseases\u001b[39m.\u001b[39mgroupby(group_col)\u001b[39m.\u001b[39mcount()\u001b[39m.\u001b[39mquery(\u001b[39m'\u001b[39m\u001b[39mnode_id>1\u001b[39m\u001b[39m'\u001b[39m)\u001b[39m.\u001b[39mindex\u001b[39m.\u001b[39mvalues\n",
      "\u001b[0;31mNameError\u001b[0m: name 'pd' is not defined"
     ]
    }
   ],
   "source": [
    "grouped_diseases = pd.read_csv(save_path+'auxillary/kg_grouped_diseases.csv').astype({'node_id':str})\n",
    "group_col = 'group_name_bert'\n",
    "\n",
    "groups = grouped_diseases.groupby(group_col).count().query('node_id>1').index.values\n",
    "set_groups = set(groups)\n",
    "\n",
    "id_col = group_col.replace('name','id')\n",
    "group_map = pd.DataFrame(columns=[id_col, group_col])\n",
    "group_map.loc[:, group_col] = groups\n",
    "\n",
    "grouped_diseases = grouped_diseases.query('{} in @set_groups'.format(group_col))\n",
    "\n",
    "for g, data in grouped_diseases.groupby(group_col): \n",
    "    if g in set_groups:\n",
    "        x = '_'.join(list(data.get('node_id').values))\n",
    "        i = group_map.query('{}==@g'.format(group_col)).index[0]\n",
    "        group_map.loc[i, id_col] = x\n",
    "        \n",
    "grouped_diseases = pd.merge(grouped_diseases, group_map)\n",
    "grouped_diseases.to_csv(save_path+'auxillary/kg_grouped_diseases_bert_map.csv', index=False)"
   ]
  },
  {
   "cell_type": "code",
   "execution_count": null,
   "metadata": {
    "ExecuteTime": {
     "end_time": "2021-08-06T12:26:36.665730Z",
     "start_time": "2021-08-06T12:22:36.827448Z"
    },
    "hidden": true,
    "scrolled": true
   },
   "outputs": [
    {
     "ename": "",
     "evalue": "",
     "output_type": "error",
     "traceback": [
      "\u001b[1;31mFailed to start the Kernel 'Python 3 (ipykernel)'. \n",
      "\u001b[1;31mView Jupyter <a href='command:jupyter.viewOutput'>log</a> for further details. Server Not found"
     ]
    }
   ],
   "source": [
    "kg_x_dis = kg.query('x_type==\"disease\" and x_source==\"MONDO\"')\n",
    "kg_y_dis = kg.query('y_type==\"disease\" and y_source==\"MONDO\"')\n",
    "\n",
    "for idx, data in tqdm(grouped_diseases.iterrows(), total=grouped_diseases.shape[0]): \n",
    "    x_index = kg_x_dis.query('x_id==@data.node_id and x_name==@data.node_name').index.values\n",
    "    kg.loc[x_index, 'x_id'] = data.get(id_col)\n",
    "    kg.loc[x_index, 'x_name'] = data.get(group_col)\n",
    "    kg.loc[x_index, 'x_source'] = 'MONDO_grouped'\n",
    "\n",
    "    y_index = kg_y_dis.query('y_id==@data.node_id and y_name==@data.node_name').index.values\n",
    "    kg.loc[y_index, 'y_id'] = data.get(id_col)\n",
    "    kg.loc[y_index, 'y_name'] = data.get(group_col)\n",
    "    kg.loc[y_index, 'y_source'] = 'MONDO_grouped'"
   ]
  },
  {
   "cell_type": "code",
   "execution_count": null,
   "metadata": {
    "ExecuteTime": {
     "end_time": "2021-08-06T12:27:07.721261Z",
     "start_time": "2021-08-06T12:26:36.673297Z"
    },
    "hidden": true
   },
   "outputs": [
    {
     "ename": "",
     "evalue": "",
     "output_type": "error",
     "traceback": [
      "\u001b[1;31mFailed to start the Kernel 'Python 3 (ipykernel)'. \n",
      "\u001b[1;31mView Jupyter <a href='command:jupyter.viewOutput'>log</a> for further details. Server Not found"
     ]
    }
   ],
   "source": [
    "kg = kg.drop_duplicates()\n",
    "kg_rev = kg.copy().rename(columns={'x_id':'y_id','x_type':'y_type', 'x_name':'y_name', 'x_source':'y_source',\n",
    "                                   'y_id':'x_id','y_type':'x_type', 'y_name':'x_name', 'y_source':'x_source' }) #add reverse edges\n",
    "kg = pd.concat([kg, kg_rev])\n",
    "kg = kg.drop_duplicates()\n",
    "kg = kg.dropna()\n",
    "# remove self loops from edges \n",
    "kg = kg.query('not ((x_id == y_id) and (x_type == y_type) and (x_source == y_source) and (x_name == y_name))')"
   ]
  },
  {
   "cell_type": "code",
   "execution_count": null,
   "metadata": {
    "ExecuteTime": {
     "end_time": "2021-08-06T12:27:41.975721Z",
     "start_time": "2021-08-06T12:27:07.723129Z"
    },
    "hidden": true
   },
   "outputs": [
    {
     "ename": "",
     "evalue": "",
     "output_type": "error",
     "traceback": [
      "\u001b[1;31mFailed to start the Kernel 'Python 3 (ipykernel)'. \n",
      "\u001b[1;31mView Jupyter <a href='command:jupyter.viewOutput'>log</a> for further details. Server Not found"
     ]
    }
   ],
   "source": [
    "kg.to_csv(save_path+'auxillary/kg_grouped.csv', index=False)"
   ]
  },
  {
   "cell_type": "markdown",
   "metadata": {},
   "source": [
    "# Knowledge graph description"
   ]
  },
  {
   "cell_type": "code",
   "execution_count": null,
   "metadata": {
    "ExecuteTime": {
     "end_time": "2021-08-06T12:27:56.845094Z",
     "start_time": "2021-08-06T12:27:41.977822Z"
    }
   },
   "outputs": [
    {
     "ename": "NameError",
     "evalue": "name 'save_path' is not defined",
     "output_type": "error",
     "traceback": [
      "\u001b[0;31m---------------------------------------------------------------------------\u001b[0m",
      "\u001b[0;31mNameError\u001b[0m                                 Traceback (most recent call last)",
      "Cell \u001b[0;32mIn[2], line 1\u001b[0m\n\u001b[0;32m----> 1\u001b[0m kg \u001b[38;5;241m=\u001b[39m pd\u001b[38;5;241m.\u001b[39mread_csv(\u001b[43msave_path\u001b[49m\u001b[38;5;241m+\u001b[39m\u001b[38;5;124m'\u001b[39m\u001b[38;5;124mauxillary/kg_grouped.csv\u001b[39m\u001b[38;5;124m'\u001b[39m, low_memory\u001b[38;5;241m=\u001b[39m\u001b[38;5;28;01mFalse\u001b[39;00m)\n",
      "\u001b[0;31mNameError\u001b[0m: name 'save_path' is not defined"
     ]
    }
   ],
   "source": [
    "kg = pd.read_csv(save_path+'auxillary/kg_grouped.csv', low_memory=False)"
   ]
  },
  {
   "cell_type": "code",
   "execution_count": null,
   "metadata": {
    "ExecuteTime": {
     "end_time": "2021-08-06T12:28:19.775375Z",
     "start_time": "2021-08-06T12:27:56.847134Z"
    }
   },
   "outputs": [
    {
     "ename": "",
     "evalue": "",
     "output_type": "error",
     "traceback": [
      "\u001b[1;31mFailed to start the Kernel 'Python 3 (ipykernel)'. \n",
      "\u001b[1;31mView Jupyter <a href='command:jupyter.viewOutput'>log</a> for further details. Server Not found"
     ]
    }
   ],
   "source": [
    "# nodes file \n",
    "nodes = pd.concat([kg.get(['x_id','x_type', 'x_name','x_source']).rename(columns={'x_id':'node_id', 'x_type':'node_type', 'x_name':'node_name', 'x_source':'node_source'}), \n",
    "                   kg.get(['y_id','y_type', 'y_name','y_source']).rename(columns={'y_id':'node_id', 'y_type':'node_type', 'y_name':'node_name', 'y_source':'node_source'})])\n",
    "nodes = nodes.drop_duplicates().reset_index().drop('index',axis=1).reset_index().rename(columns={'index':'node_index'})\n",
    "\n",
    "# assign index \n",
    "kg = pd.merge(kg, nodes.rename(columns={'node_index':'x_index',\n",
    "                                        'node_id':'x_id',\n",
    "                                        'node_type':'x_type',\n",
    "                                        'node_name':'x_name',\n",
    "                                        'node_source':'x_source'}), 'left').dropna()\n",
    "kg = pd.merge(kg, nodes.rename(columns={'node_index':'y_index',\n",
    "                                        'node_id':'y_id',\n",
    "                                        'node_type':'y_type',\n",
    "                                        'node_name':'y_name',\n",
    "                                        'node_source':'y_source'}), 'left').dropna()\n",
    "kg = kg.get(['relation', 'display_relation', 'x_index', 'x_id', 'x_type', 'x_name', 'x_source',\n",
    "       'y_index', 'y_id', 'y_type', 'y_name', 'y_source'])\n",
    "\n",
    "# edges file \n",
    "edges = kg.get(['relation', 'display_relation', 'x_index', 'y_index']).copy()"
   ]
  },
  {
   "cell_type": "code",
   "execution_count": null,
   "metadata": {
    "ExecuteTime": {
     "end_time": "2021-08-06T12:29:17.530524Z",
     "start_time": "2021-08-06T12:28:19.778095Z"
    }
   },
   "outputs": [
    {
     "ename": "",
     "evalue": "",
     "output_type": "error",
     "traceback": [
      "\u001b[1;31mFailed to start the Kernel 'Python 3 (ipykernel)'. \n",
      "\u001b[1;31mView Jupyter <a href='command:jupyter.viewOutput'>log</a> for further details. Server Not found"
     ]
    }
   ],
   "source": [
    "kg.to_csv(save_path+'kg.csv', index=False)\n",
    "nodes.to_csv(save_path+'nodes.csv', index=False)\n",
    "edges.to_csv(save_path+'edges.csv', index=False)"
   ]
  },
  {
   "cell_type": "code",
   "execution_count": null,
   "metadata": {
    "ExecuteTime": {
     "end_time": "2021-08-06T12:29:17.586693Z",
     "start_time": "2021-08-06T12:29:17.532592Z"
    },
    "code_folding": []
   },
   "outputs": [
    {
     "ename": "",
     "evalue": "",
     "output_type": "error",
     "traceback": [
      "\u001b[1;31mFailed to start the Kernel 'Python 3 (ipykernel)'. \n",
      "\u001b[1;31mView Jupyter <a href='command:jupyter.viewOutput'>log</a> for further details. Server Not found"
     ]
    }
   ],
   "source": [
    "def kg_describe(df, by, count_col): \n",
    "    df = df.groupby(by).count().sort_values(by=count_col, ascending=False).rename(columns={count_col:'count'}).get(['count'])\n",
    "    total = np.sum(df.get('count').values)\n",
    "    df = df.eval('percent = 100*count/@total')\n",
    "    df = df.append(df.sum(0).rename('total'))\n",
    "    df['count'] = df.get(['count']).astype('int')\n",
    "    df['percent'] = df.get(['percent']).round(1)\n",
    "    return df"
   ]
  },
  {
   "cell_type": "code",
   "execution_count": null,
   "metadata": {
    "ExecuteTime": {
     "end_time": "2021-08-06T12:29:17.776738Z",
     "start_time": "2021-08-06T12:29:17.591473Z"
    },
    "scrolled": true
   },
   "outputs": [
    {
     "ename": "",
     "evalue": "",
     "output_type": "error",
     "traceback": [
      "\u001b[1;31mFailed to start the Kernel 'Python 3 (ipykernel)'. \n",
      "\u001b[1;31mView Jupyter <a href='command:jupyter.viewOutput'>log</a> for further details. Server Not found"
     ]
    }
   ],
   "source": [
    "kg_describe(nodes,'node_type','node_index')"
   ]
  },
  {
   "cell_type": "code",
   "execution_count": null,
   "metadata": {
    "ExecuteTime": {
     "end_time": "2021-08-06T12:29:18.783745Z",
     "start_time": "2021-08-06T12:29:17.779433Z"
    }
   },
   "outputs": [
    {
     "ename": "",
     "evalue": "",
     "output_type": "error",
     "traceback": [
      "\u001b[1;31mFailed to start the Kernel 'Python 3 (ipykernel)'. \n",
      "\u001b[1;31mView Jupyter <a href='command:jupyter.viewOutput'>log</a> for further details. Server Not found"
     ]
    }
   ],
   "source": [
    "kg_describe(edges,'relation','x_index')"
   ]
  }
 ],
 "metadata": {
  "hide_input": false,
  "kernelspec": {
   "display_name": "Python 3 (ipykernel)",
   "language": "python",
   "name": "python3"
  },
  "language_info": {
   "codemirror_mode": {
    "name": "ipython",
    "version": 3
   },
   "file_extension": ".py",
   "mimetype": "text/x-python",
   "name": "python",
   "nbconvert_exporter": "python",
   "pygments_lexer": "ipython3",
   "version": "3.11.5"
  },
  "notify_time": "10",
  "toc": {
   "base_numbering": 1,
   "nav_menu": {},
   "number_sections": false,
   "sideBar": false,
   "skip_h1_title": false,
   "title_cell": "Table of Contents",
   "title_sidebar": "Contents",
   "toc_cell": false,
   "toc_position": {
    "height": "549.5652465820312px",
    "left": "993.9918212890625px",
    "top": "49.45652389526367px",
    "width": "161.64402770996094px"
   },
   "toc_section_display": false,
   "toc_window_display": false
  }
 },
 "nbformat": 4,
 "nbformat_minor": 4
}
